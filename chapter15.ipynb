{
 "cells": [
  {
   "cell_type": "markdown",
   "metadata": {},
   "source": [
    "15 머신러닝을 이용한 예측 분석"
   ]
  },
  {
   "cell_type": "code",
   "execution_count": 2,
   "metadata": {},
   "outputs": [
    {
     "name": "stdout",
     "output_type": "stream",
     "text": [
      "<class 'pandas.core.frame.DataFrame'>\n",
      "RangeIndex: 48842 entries, 0 to 48841\n",
      "Data columns (total 15 columns):\n",
      " #   Column          Non-Null Count  Dtype \n",
      "---  ------          --------------  ----- \n",
      " 0   age             48842 non-null  int64 \n",
      " 1   workclass       48842 non-null  object\n",
      " 2   fnlwgt          48842 non-null  int64 \n",
      " 3   education       48842 non-null  object\n",
      " 4   education_num   48842 non-null  int64 \n",
      " 5   marital_status  48842 non-null  object\n",
      " 6   occupation      48842 non-null  object\n",
      " 7   relationship    48842 non-null  object\n",
      " 8   race            48842 non-null  object\n",
      " 9   sex             48842 non-null  object\n",
      " 10  capital_gain    48842 non-null  int64 \n",
      " 11  capital_loss    48842 non-null  int64 \n",
      " 12  hours_per_week  48842 non-null  int64 \n",
      " 13  native_country  48842 non-null  object\n",
      " 14  income          48842 non-null  object\n",
      "dtypes: int64(6), object(9)\n",
      "memory usage: 5.6+ MB\n"
     ]
    }
   ],
   "source": [
    "import pandas as pd\n",
    "df = pd.read_csv('data/adult.csv')\n",
    "df.info()"
   ]
  },
  {
   "cell_type": "markdown",
   "metadata": {},
   "source": [
    "1. 타켓 변수 전처리"
   ]
  },
  {
   "cell_type": "code",
   "execution_count": 3,
   "metadata": {},
   "outputs": [
    {
     "data": {
      "text/plain": "<=50K    0.760718\n>50K     0.239282\nName: income, dtype: float64"
     },
     "execution_count": 3,
     "metadata": {},
     "output_type": "execute_result"
    }
   ],
   "source": [
    "df['income'].value_counts(normalize = True) #범주의 비율"
   ]
  },
  {
   "cell_type": "code",
   "execution_count": 4,
   "metadata": {},
   "outputs": [
    {
     "data": {
      "text/plain": "low     0.760718\nhigh    0.239282\nName: income, dtype: float64"
     },
     "execution_count": 4,
     "metadata": {},
     "output_type": "execute_result"
    }
   ],
   "source": [
    "import numpy as np\n",
    "df['income'] = np.where(df['income'] == '>50K', 'high', 'low')\n",
    "df['income'].value_counts(normalize = True)"
   ]
  },
  {
   "cell_type": "markdown",
   "metadata": {},
   "source": [
    "2. 불필요한 변수 제거"
   ]
  },
  {
   "cell_type": "code",
   "execution_count": 5,
   "metadata": {},
   "outputs": [],
   "source": [
    "df = df.drop(columns = 'fnlwgt') #인종, 성별, 나이 등 인구 통계속성이 같은 fnlwgt 제거"
   ]
  },
  {
   "cell_type": "markdown",
   "metadata": {},
   "source": [
    "3. 문자 타입 변수를 숫자 타입으로 바꾸기 "
   ]
  },
  {
   "cell_type": "code",
   "execution_count": 6,
   "metadata": {},
   "outputs": [
    {
     "name": "stdout",
     "output_type": "stream",
     "text": [
      "<class 'pandas.core.frame.DataFrame'>\n",
      "RangeIndex: 48842 entries, 0 to 48841\n",
      "Data columns (total 1 columns):\n",
      " #   Column  Non-Null Count  Dtype \n",
      "---  ------  --------------  ----- \n",
      " 0   sex     48842 non-null  object\n",
      "dtypes: object(1)\n",
      "memory usage: 381.7+ KB\n"
     ]
    }
   ],
   "source": [
    "df_tmp = df[['sex']]\n",
    "df_tmp.info() #모델을 만드는데 사용되는 모든 변수는 숫자 타입이어야 하고 1,0 으로 표기되는 원핫 인코딩 진행"
   ]
  },
  {
   "cell_type": "code",
   "execution_count": 7,
   "metadata": {},
   "outputs": [
    {
     "data": {
      "text/plain": "Male      32650\nFemale    16192\nName: sex, dtype: int64"
     },
     "execution_count": 7,
     "metadata": {},
     "output_type": "execute_result"
    }
   ],
   "source": [
    "df_tmp['sex'].value_counts() "
   ]
  },
  {
   "cell_type": "code",
   "execution_count": 9,
   "metadata": {},
   "outputs": [
    {
     "name": "stdout",
     "output_type": "stream",
     "text": [
      "<class 'pandas.core.frame.DataFrame'>\n",
      "RangeIndex: 48842 entries, 0 to 48841\n",
      "Data columns (total 2 columns):\n",
      " #   Column      Non-Null Count  Dtype\n",
      "---  ------      --------------  -----\n",
      " 0   sex_Female  48842 non-null  uint8\n",
      " 1   sex_Male    48842 non-null  uint8\n",
      "dtypes: uint8(2)\n",
      "memory usage: 95.5 KB\n"
     ]
    }
   ],
   "source": [
    "# df_tmp의 문자 타입 변수에 원핫 인코딩 적용\n",
    "df_tmp = pd.get_dummies(df_tmp)\n",
    "df_tmp.info()"
   ]
  },
  {
   "cell_type": "code",
   "execution_count": 10,
   "metadata": {},
   "outputs": [
    {
     "data": {
      "text/html": "<div>\n<style scoped>\n    .dataframe tbody tr th:only-of-type {\n        vertical-align: middle;\n    }\n\n    .dataframe tbody tr th {\n        vertical-align: top;\n    }\n\n    .dataframe thead th {\n        text-align: right;\n    }\n</style>\n<table border=\"1\" class=\"dataframe\">\n  <thead>\n    <tr style=\"text-align: right;\">\n      <th></th>\n      <th>sex_Female</th>\n      <th>sex_Male</th>\n    </tr>\n  </thead>\n  <tbody>\n    <tr>\n      <th>0</th>\n      <td>0</td>\n      <td>1</td>\n    </tr>\n    <tr>\n      <th>1</th>\n      <td>0</td>\n      <td>1</td>\n    </tr>\n    <tr>\n      <th>2</th>\n      <td>0</td>\n      <td>1</td>\n    </tr>\n    <tr>\n      <th>3</th>\n      <td>0</td>\n      <td>1</td>\n    </tr>\n    <tr>\n      <th>4</th>\n      <td>1</td>\n      <td>0</td>\n    </tr>\n  </tbody>\n</table>\n</div>",
      "text/plain": "   sex_Female  sex_Male\n0           0         1\n1           0         1\n2           0         1\n3           0         1\n4           1         0"
     },
     "execution_count": 10,
     "metadata": {},
     "output_type": "execute_result"
    }
   ],
   "source": [
    "df_tmp[['sex_Female', 'sex_Male']].head()"
   ]
  },
  {
   "cell_type": "code",
   "execution_count": 11,
   "metadata": {},
   "outputs": [
    {
     "name": "stdout",
     "output_type": "stream",
     "text": [
      "<class 'pandas.core.frame.DataFrame'>\n",
      "RangeIndex: 48842 entries, 0 to 48841\n",
      "Columns: 108 entries, age to income\n",
      "dtypes: int64(5), object(1), uint8(102)\n",
      "memory usage: 7.0+ MB\n"
     ]
    }
   ],
   "source": [
    "target = df['income']             # income 추출\n",
    "\n",
    "df = df.drop(columns = 'income')  # income 제거\n",
    "df = pd.get_dummies(df)           # 문자 타입 변수 원핫 인코딩\n",
    "\n",
    "df['income'] = target             # df에 target 삽입\n",
    "df.info()"
   ]
  },
  {
   "cell_type": "code",
   "execution_count": 12,
   "metadata": {},
   "outputs": [
    {
     "name": "stdout",
     "output_type": "stream",
     "text": [
      "<class 'pandas.core.frame.DataFrame'>\n",
      "RangeIndex: 48842 entries, 0 to 48841\n",
      "Data columns (total 108 columns):\n",
      " #    Column                                     Non-Null Count  Dtype \n",
      "---   ------                                     --------------  ----- \n",
      " 0    age                                        48842 non-null  int64 \n",
      " 1    education_num                              48842 non-null  int64 \n",
      " 2    capital_gain                               48842 non-null  int64 \n",
      " 3    capital_loss                               48842 non-null  int64 \n",
      " 4    hours_per_week                             48842 non-null  int64 \n",
      " 5    workclass_?                                48842 non-null  uint8 \n",
      " 6    workclass_Federal-gov                      48842 non-null  uint8 \n",
      " 7    workclass_Local-gov                        48842 non-null  uint8 \n",
      " 8    workclass_Never-worked                     48842 non-null  uint8 \n",
      " 9    workclass_Private                          48842 non-null  uint8 \n",
      " 10   workclass_Self-emp-inc                     48842 non-null  uint8 \n",
      " 11   workclass_Self-emp-not-inc                 48842 non-null  uint8 \n",
      " 12   workclass_State-gov                        48842 non-null  uint8 \n",
      " 13   workclass_Without-pay                      48842 non-null  uint8 \n",
      " 14   education_10th                             48842 non-null  uint8 \n",
      " 15   education_11th                             48842 non-null  uint8 \n",
      " 16   education_12th                             48842 non-null  uint8 \n",
      " 17   education_1st-4th                          48842 non-null  uint8 \n",
      " 18   education_5th-6th                          48842 non-null  uint8 \n",
      " 19   education_7th-8th                          48842 non-null  uint8 \n",
      " 20   education_9th                              48842 non-null  uint8 \n",
      " 21   education_Assoc-acdm                       48842 non-null  uint8 \n",
      " 22   education_Assoc-voc                        48842 non-null  uint8 \n",
      " 23   education_Bachelors                        48842 non-null  uint8 \n",
      " 24   education_Doctorate                        48842 non-null  uint8 \n",
      " 25   education_HS-grad                          48842 non-null  uint8 \n",
      " 26   education_Masters                          48842 non-null  uint8 \n",
      " 27   education_Preschool                        48842 non-null  uint8 \n",
      " 28   education_Prof-school                      48842 non-null  uint8 \n",
      " 29   education_Some-college                     48842 non-null  uint8 \n",
      " 30   marital_status_Divorced                    48842 non-null  uint8 \n",
      " 31   marital_status_Married-AF-spouse           48842 non-null  uint8 \n",
      " 32   marital_status_Married-civ-spouse          48842 non-null  uint8 \n",
      " 33   marital_status_Married-spouse-absent       48842 non-null  uint8 \n",
      " 34   marital_status_Never-married               48842 non-null  uint8 \n",
      " 35   marital_status_Separated                   48842 non-null  uint8 \n",
      " 36   marital_status_Widowed                     48842 non-null  uint8 \n",
      " 37   occupation_?                               48842 non-null  uint8 \n",
      " 38   occupation_Adm-clerical                    48842 non-null  uint8 \n",
      " 39   occupation_Armed-Forces                    48842 non-null  uint8 \n",
      " 40   occupation_Craft-repair                    48842 non-null  uint8 \n",
      " 41   occupation_Exec-managerial                 48842 non-null  uint8 \n",
      " 42   occupation_Farming-fishing                 48842 non-null  uint8 \n",
      " 43   occupation_Handlers-cleaners               48842 non-null  uint8 \n",
      " 44   occupation_Machine-op-inspct               48842 non-null  uint8 \n",
      " 45   occupation_Other-service                   48842 non-null  uint8 \n",
      " 46   occupation_Priv-house-serv                 48842 non-null  uint8 \n",
      " 47   occupation_Prof-specialty                  48842 non-null  uint8 \n",
      " 48   occupation_Protective-serv                 48842 non-null  uint8 \n",
      " 49   occupation_Sales                           48842 non-null  uint8 \n",
      " 50   occupation_Tech-support                    48842 non-null  uint8 \n",
      " 51   occupation_Transport-moving                48842 non-null  uint8 \n",
      " 52   relationship_Husband                       48842 non-null  uint8 \n",
      " 53   relationship_Not-in-family                 48842 non-null  uint8 \n",
      " 54   relationship_Other-relative                48842 non-null  uint8 \n",
      " 55   relationship_Own-child                     48842 non-null  uint8 \n",
      " 56   relationship_Unmarried                     48842 non-null  uint8 \n",
      " 57   relationship_Wife                          48842 non-null  uint8 \n",
      " 58   race_Amer-Indian-Eskimo                    48842 non-null  uint8 \n",
      " 59   race_Asian-Pac-Islander                    48842 non-null  uint8 \n",
      " 60   race_Black                                 48842 non-null  uint8 \n",
      " 61   race_Other                                 48842 non-null  uint8 \n",
      " 62   race_White                                 48842 non-null  uint8 \n",
      " 63   sex_Female                                 48842 non-null  uint8 \n",
      " 64   sex_Male                                   48842 non-null  uint8 \n",
      " 65   native_country_?                           48842 non-null  uint8 \n",
      " 66   native_country_Cambodia                    48842 non-null  uint8 \n",
      " 67   native_country_Canada                      48842 non-null  uint8 \n",
      " 68   native_country_China                       48842 non-null  uint8 \n",
      " 69   native_country_Columbia                    48842 non-null  uint8 \n",
      " 70   native_country_Cuba                        48842 non-null  uint8 \n",
      " 71   native_country_Dominican-Republic          48842 non-null  uint8 \n",
      " 72   native_country_Ecuador                     48842 non-null  uint8 \n",
      " 73   native_country_El-Salvador                 48842 non-null  uint8 \n",
      " 74   native_country_England                     48842 non-null  uint8 \n",
      " 75   native_country_France                      48842 non-null  uint8 \n",
      " 76   native_country_Germany                     48842 non-null  uint8 \n",
      " 77   native_country_Greece                      48842 non-null  uint8 \n",
      " 78   native_country_Guatemala                   48842 non-null  uint8 \n",
      " 79   native_country_Haiti                       48842 non-null  uint8 \n",
      " 80   native_country_Holand-Netherlands          48842 non-null  uint8 \n",
      " 81   native_country_Honduras                    48842 non-null  uint8 \n",
      " 82   native_country_Hong                        48842 non-null  uint8 \n",
      " 83   native_country_Hungary                     48842 non-null  uint8 \n",
      " 84   native_country_India                       48842 non-null  uint8 \n",
      " 85   native_country_Iran                        48842 non-null  uint8 \n",
      " 86   native_country_Ireland                     48842 non-null  uint8 \n",
      " 87   native_country_Italy                       48842 non-null  uint8 \n",
      " 88   native_country_Jamaica                     48842 non-null  uint8 \n",
      " 89   native_country_Japan                       48842 non-null  uint8 \n",
      " 90   native_country_Laos                        48842 non-null  uint8 \n",
      " 91   native_country_Mexico                      48842 non-null  uint8 \n",
      " 92   native_country_Nicaragua                   48842 non-null  uint8 \n",
      " 93   native_country_Outlying-US(Guam-USVI-etc)  48842 non-null  uint8 \n",
      " 94   native_country_Peru                        48842 non-null  uint8 \n",
      " 95   native_country_Philippines                 48842 non-null  uint8 \n",
      " 96   native_country_Poland                      48842 non-null  uint8 \n",
      " 97   native_country_Portugal                    48842 non-null  uint8 \n",
      " 98   native_country_Puerto-Rico                 48842 non-null  uint8 \n",
      " 99   native_country_Scotland                    48842 non-null  uint8 \n",
      " 100  native_country_South                       48842 non-null  uint8 \n",
      " 101  native_country_Taiwan                      48842 non-null  uint8 \n",
      " 102  native_country_Thailand                    48842 non-null  uint8 \n",
      " 103  native_country_Trinadad&Tobago             48842 non-null  uint8 \n",
      " 104  native_country_United-States               48842 non-null  uint8 \n",
      " 105  native_country_Vietnam                     48842 non-null  uint8 \n",
      " 106  native_country_Yugoslavia                  48842 non-null  uint8 \n",
      " 107  income                                     48842 non-null  object\n",
      "dtypes: int64(5), object(1), uint8(102)\n",
      "memory usage: 7.0+ MB\n"
     ]
    }
   ],
   "source": [
    "import numpy as np\n",
    "df.info(max_cols = np.inf) #문자 타입과 변수가 전부 숫자로 바뀌었음을 확인"
   ]
  },
  {
   "cell_type": "markdown",
   "metadata": {},
   "source": []
  },
  {
   "cell_type": "code",
   "execution_count": null,
   "metadata": {},
   "outputs": [],
   "source": [
    "4. 데이터 분할하기\n",
    "adult 데이터 분할"
   ]
  },
  {
   "cell_type": "code",
   "execution_count": 13,
   "metadata": {},
   "outputs": [],
   "source": [
    "from sklearn.model_selection import train_test_split\n",
    "df_train, df_test = train_test_split(df,\n",
    "                                     test_size = 0.3,          # 테스트 세트 비율\n",
    "                                     stratify = df['income'],  # 타겟 변수 비율 유지\n",
    "                                     random_state = 1234)      # 난수 고정"
   ]
  },
  {
   "cell_type": "code",
   "execution_count": null,
   "metadata": {},
   "outputs": [],
   "source": []
  }
 ],
 "metadata": {
  "kernelspec": {
   "display_name": "Python 3.9.12 64-bit ('anaconda3': virtualenv)",
   "name": "python3912jvsc74a57bd09fdced22d77102b5601c8f6ec647391a5080fbbd8dc561881d6412554a470c13"
  },
  "language_info": {
   "codemirror_mode": {
    "name": "ipython",
    "version": 3
   },
   "file_extension": ".py",
   "mimetype": "text/x-python",
   "name": "python",
   "nbconvert_exporter": "python",
   "pygments_lexer": "ipython3",
   "version": "3.9.12"
  },
  "orig_nbformat": 2
 },
 "nbformat": 4,
 "nbformat_minor": 2
}