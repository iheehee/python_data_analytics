{
 "cells": [
  {
   "cell_type": "code",
   "execution_count": 34,
   "metadata": {},
   "outputs": [
    {
     "data": {
      "text/html": "<div>\n<style scoped>\n    .dataframe tbody tr th:only-of-type {\n        vertical-align: middle;\n    }\n\n    .dataframe tbody tr th {\n        vertical-align: top;\n    }\n\n    .dataframe thead th {\n        text-align: right;\n    }\n</style>\n<table border=\"1\" class=\"dataframe\">\n  <thead>\n    <tr style=\"text-align: right;\">\n      <th></th>\n      <th>id</th>\n      <th>nclass</th>\n      <th>math</th>\n      <th>english</th>\n      <th>science</th>\n    </tr>\n  </thead>\n  <tbody>\n    <tr>\n      <th>0</th>\n      <td>1</td>\n      <td>1</td>\n      <td>50</td>\n      <td>98</td>\n      <td>50</td>\n    </tr>\n    <tr>\n      <th>1</th>\n      <td>2</td>\n      <td>1</td>\n      <td>60</td>\n      <td>97</td>\n      <td>60</td>\n    </tr>\n    <tr>\n      <th>2</th>\n      <td>3</td>\n      <td>1</td>\n      <td>45</td>\n      <td>86</td>\n      <td>78</td>\n    </tr>\n    <tr>\n      <th>3</th>\n      <td>4</td>\n      <td>1</td>\n      <td>30</td>\n      <td>98</td>\n      <td>58</td>\n    </tr>\n    <tr>\n      <th>4</th>\n      <td>5</td>\n      <td>2</td>\n      <td>25</td>\n      <td>80</td>\n      <td>65</td>\n    </tr>\n  </tbody>\n</table>\n</div>",
      "text/plain": "   id  nclass  math  english  science\n0   1       1    50       98       50\n1   2       1    60       97       60\n2   3       1    45       86       78\n3   4       1    30       98       58\n4   5       2    25       80       65"
     },
     "execution_count": 34,
     "metadata": {},
     "output_type": "execute_result"
    }
   ],
   "source": [
    "import pandas as pd\n",
    "import numpy as np\n",
    "exam = pd.read_csv('data/exam.csv')\n",
    "exam.head()"
   ]
  },
  {
   "cell_type": "code",
   "execution_count": 6,
   "metadata": {},
   "outputs": [
    {
     "data": {
      "text/html": "<div>\n<style scoped>\n    .dataframe tbody tr th:only-of-type {\n        vertical-align: middle;\n    }\n\n    .dataframe tbody tr th {\n        vertical-align: top;\n    }\n\n    .dataframe thead th {\n        text-align: right;\n    }\n</style>\n<table border=\"1\" class=\"dataframe\">\n  <thead>\n    <tr style=\"text-align: right;\">\n      <th></th>\n      <th>id</th>\n      <th>nclass</th>\n      <th>math</th>\n      <th>english</th>\n      <th>science</th>\n    </tr>\n  </thead>\n  <tbody>\n    <tr>\n      <th>0</th>\n      <td>1</td>\n      <td>1</td>\n      <td>50</td>\n      <td>98</td>\n      <td>50</td>\n    </tr>\n    <tr>\n      <th>1</th>\n      <td>2</td>\n      <td>1</td>\n      <td>60</td>\n      <td>97</td>\n      <td>60</td>\n    </tr>\n    <tr>\n      <th>2</th>\n      <td>3</td>\n      <td>1</td>\n      <td>45</td>\n      <td>86</td>\n      <td>78</td>\n    </tr>\n    <tr>\n      <th>3</th>\n      <td>4</td>\n      <td>1</td>\n      <td>30</td>\n      <td>98</td>\n      <td>58</td>\n    </tr>\n    <tr>\n      <th>4</th>\n      <td>5</td>\n      <td>2</td>\n      <td>25</td>\n      <td>80</td>\n      <td>65</td>\n    </tr>\n    <tr>\n      <th>5</th>\n      <td>6</td>\n      <td>2</td>\n      <td>50</td>\n      <td>89</td>\n      <td>98</td>\n    </tr>\n    <tr>\n      <th>6</th>\n      <td>7</td>\n      <td>2</td>\n      <td>80</td>\n      <td>90</td>\n      <td>45</td>\n    </tr>\n    <tr>\n      <th>7</th>\n      <td>8</td>\n      <td>2</td>\n      <td>90</td>\n      <td>78</td>\n      <td>25</td>\n    </tr>\n    <tr>\n      <th>8</th>\n      <td>9</td>\n      <td>3</td>\n      <td>20</td>\n      <td>98</td>\n      <td>15</td>\n    </tr>\n    <tr>\n      <th>9</th>\n      <td>10</td>\n      <td>3</td>\n      <td>50</td>\n      <td>98</td>\n      <td>45</td>\n    </tr>\n  </tbody>\n</table>\n</div>",
      "text/plain": "   id  nclass  math  english  science\n0   1       1    50       98       50\n1   2       1    60       97       60\n2   3       1    45       86       78\n3   4       1    30       98       58\n4   5       2    25       80       65\n5   6       2    50       89       98\n6   7       2    80       90       45\n7   8       2    90       78       25\n8   9       3    20       98       15\n9  10       3    50       98       45"
     },
     "execution_count": 6,
     "metadata": {},
     "output_type": "execute_result"
    }
   ],
   "source": [
    "exam.head(10)"
   ]
  },
  {
   "cell_type": "code",
   "execution_count": 7,
   "metadata": {},
   "outputs": [
    {
     "data": {
      "text/html": "<div>\n<style scoped>\n    .dataframe tbody tr th:only-of-type {\n        vertical-align: middle;\n    }\n\n    .dataframe tbody tr th {\n        vertical-align: top;\n    }\n\n    .dataframe thead th {\n        text-align: right;\n    }\n</style>\n<table border=\"1\" class=\"dataframe\">\n  <thead>\n    <tr style=\"text-align: right;\">\n      <th></th>\n      <th>id</th>\n      <th>nclass</th>\n      <th>math</th>\n      <th>english</th>\n      <th>science</th>\n    </tr>\n  </thead>\n  <tbody>\n    <tr>\n      <th>15</th>\n      <td>16</td>\n      <td>4</td>\n      <td>58</td>\n      <td>98</td>\n      <td>65</td>\n    </tr>\n    <tr>\n      <th>16</th>\n      <td>17</td>\n      <td>5</td>\n      <td>65</td>\n      <td>68</td>\n      <td>98</td>\n    </tr>\n    <tr>\n      <th>17</th>\n      <td>18</td>\n      <td>5</td>\n      <td>80</td>\n      <td>78</td>\n      <td>90</td>\n    </tr>\n    <tr>\n      <th>18</th>\n      <td>19</td>\n      <td>5</td>\n      <td>89</td>\n      <td>68</td>\n      <td>87</td>\n    </tr>\n    <tr>\n      <th>19</th>\n      <td>20</td>\n      <td>5</td>\n      <td>78</td>\n      <td>83</td>\n      <td>58</td>\n    </tr>\n  </tbody>\n</table>\n</div>",
      "text/plain": "    id  nclass  math  english  science\n15  16       4    58       98       65\n16  17       5    65       68       98\n17  18       5    80       78       90\n18  19       5    89       68       87\n19  20       5    78       83       58"
     },
     "execution_count": 7,
     "metadata": {},
     "output_type": "execute_result"
    }
   ],
   "source": [
    "exam.tail()"
   ]
  },
  {
   "cell_type": "code",
   "execution_count": 8,
   "metadata": {},
   "outputs": [
    {
     "data": {
      "text/html": "<div>\n<style scoped>\n    .dataframe tbody tr th:only-of-type {\n        vertical-align: middle;\n    }\n\n    .dataframe tbody tr th {\n        vertical-align: top;\n    }\n\n    .dataframe thead th {\n        text-align: right;\n    }\n</style>\n<table border=\"1\" class=\"dataframe\">\n  <thead>\n    <tr style=\"text-align: right;\">\n      <th></th>\n      <th>id</th>\n      <th>nclass</th>\n      <th>math</th>\n      <th>english</th>\n      <th>science</th>\n    </tr>\n  </thead>\n  <tbody>\n    <tr>\n      <th>10</th>\n      <td>11</td>\n      <td>3</td>\n      <td>65</td>\n      <td>65</td>\n      <td>65</td>\n    </tr>\n    <tr>\n      <th>11</th>\n      <td>12</td>\n      <td>3</td>\n      <td>45</td>\n      <td>85</td>\n      <td>32</td>\n    </tr>\n    <tr>\n      <th>12</th>\n      <td>13</td>\n      <td>4</td>\n      <td>46</td>\n      <td>98</td>\n      <td>65</td>\n    </tr>\n    <tr>\n      <th>13</th>\n      <td>14</td>\n      <td>4</td>\n      <td>48</td>\n      <td>87</td>\n      <td>12</td>\n    </tr>\n    <tr>\n      <th>14</th>\n      <td>15</td>\n      <td>4</td>\n      <td>75</td>\n      <td>56</td>\n      <td>78</td>\n    </tr>\n    <tr>\n      <th>15</th>\n      <td>16</td>\n      <td>4</td>\n      <td>58</td>\n      <td>98</td>\n      <td>65</td>\n    </tr>\n    <tr>\n      <th>16</th>\n      <td>17</td>\n      <td>5</td>\n      <td>65</td>\n      <td>68</td>\n      <td>98</td>\n    </tr>\n    <tr>\n      <th>17</th>\n      <td>18</td>\n      <td>5</td>\n      <td>80</td>\n      <td>78</td>\n      <td>90</td>\n    </tr>\n    <tr>\n      <th>18</th>\n      <td>19</td>\n      <td>5</td>\n      <td>89</td>\n      <td>68</td>\n      <td>87</td>\n    </tr>\n    <tr>\n      <th>19</th>\n      <td>20</td>\n      <td>5</td>\n      <td>78</td>\n      <td>83</td>\n      <td>58</td>\n    </tr>\n  </tbody>\n</table>\n</div>",
      "text/plain": "    id  nclass  math  english  science\n10  11       3    65       65       65\n11  12       3    45       85       32\n12  13       4    46       98       65\n13  14       4    48       87       12\n14  15       4    75       56       78\n15  16       4    58       98       65\n16  17       5    65       68       98\n17  18       5    80       78       90\n18  19       5    89       68       87\n19  20       5    78       83       58"
     },
     "execution_count": 8,
     "metadata": {},
     "output_type": "execute_result"
    }
   ],
   "source": [
    "exam.tail(10)"
   ]
  },
  {
   "cell_type": "code",
   "execution_count": 10,
   "metadata": {},
   "outputs": [
    {
     "data": {
      "text/plain": "(20, 5)"
     },
     "execution_count": 10,
     "metadata": {},
     "output_type": "execute_result"
    }
   ],
   "source": [
    "exam.shape"
   ]
  },
  {
   "cell_type": "code",
   "execution_count": 11,
   "metadata": {},
   "outputs": [
    {
     "name": "stdout",
     "output_type": "stream",
     "text": [
      "<class 'pandas.core.frame.DataFrame'>\n",
      "RangeIndex: 20 entries, 0 to 19\n",
      "Data columns (total 5 columns):\n",
      " #   Column   Non-Null Count  Dtype\n",
      "---  ------   --------------  -----\n",
      " 0   id       20 non-null     int64\n",
      " 1   nclass   20 non-null     int64\n",
      " 2   math     20 non-null     int64\n",
      " 3   english  20 non-null     int64\n",
      " 4   science  20 non-null     int64\n",
      "dtypes: int64(5)\n",
      "memory usage: 928.0 bytes\n"
     ]
    }
   ],
   "source": [
    "exam.info()"
   ]
  },
  {
   "cell_type": "code",
   "execution_count": 13,
   "metadata": {},
   "outputs": [
    {
     "data": {
      "text/html": "<div>\n<style scoped>\n    .dataframe tbody tr th:only-of-type {\n        vertical-align: middle;\n    }\n\n    .dataframe tbody tr th {\n        vertical-align: top;\n    }\n\n    .dataframe thead th {\n        text-align: right;\n    }\n</style>\n<table border=\"1\" class=\"dataframe\">\n  <thead>\n    <tr style=\"text-align: right;\">\n      <th></th>\n      <th>id</th>\n      <th>nclass</th>\n      <th>math</th>\n      <th>english</th>\n      <th>science</th>\n    </tr>\n  </thead>\n  <tbody>\n    <tr>\n      <th>count</th>\n      <td>20.00000</td>\n      <td>20.000000</td>\n      <td>20.000000</td>\n      <td>20.000000</td>\n      <td>20.000000</td>\n    </tr>\n    <tr>\n      <th>mean</th>\n      <td>10.50000</td>\n      <td>3.000000</td>\n      <td>57.450000</td>\n      <td>84.900000</td>\n      <td>59.450000</td>\n    </tr>\n    <tr>\n      <th>std</th>\n      <td>5.91608</td>\n      <td>1.450953</td>\n      <td>20.299015</td>\n      <td>12.875517</td>\n      <td>25.292968</td>\n    </tr>\n    <tr>\n      <th>min</th>\n      <td>1.00000</td>\n      <td>1.000000</td>\n      <td>20.000000</td>\n      <td>56.000000</td>\n      <td>12.000000</td>\n    </tr>\n    <tr>\n      <th>25%</th>\n      <td>5.75000</td>\n      <td>2.000000</td>\n      <td>45.750000</td>\n      <td>78.000000</td>\n      <td>45.000000</td>\n    </tr>\n    <tr>\n      <th>50%</th>\n      <td>10.50000</td>\n      <td>3.000000</td>\n      <td>54.000000</td>\n      <td>86.500000</td>\n      <td>62.500000</td>\n    </tr>\n    <tr>\n      <th>75%</th>\n      <td>15.25000</td>\n      <td>4.000000</td>\n      <td>75.750000</td>\n      <td>98.000000</td>\n      <td>78.000000</td>\n    </tr>\n    <tr>\n      <th>max</th>\n      <td>20.00000</td>\n      <td>5.000000</td>\n      <td>90.000000</td>\n      <td>98.000000</td>\n      <td>98.000000</td>\n    </tr>\n  </tbody>\n</table>\n</div>",
      "text/plain": "             id     nclass       math    english    science\ncount  20.00000  20.000000  20.000000  20.000000  20.000000\nmean   10.50000   3.000000  57.450000  84.900000  59.450000\nstd     5.91608   1.450953  20.299015  12.875517  25.292968\nmin     1.00000   1.000000  20.000000  56.000000  12.000000\n25%     5.75000   2.000000  45.750000  78.000000  45.000000\n50%    10.50000   3.000000  54.000000  86.500000  62.500000\n75%    15.25000   4.000000  75.750000  98.000000  78.000000\nmax    20.00000   5.000000  90.000000  98.000000  98.000000"
     },
     "execution_count": 13,
     "metadata": {},
     "output_type": "execute_result"
    }
   ],
   "source": [
    "exam.describe()"
   ]
  },
  {
   "cell_type": "code",
   "execution_count": 15,
   "metadata": {},
   "outputs": [
    {
     "name": "stdout",
     "output_type": "stream",
     "text": [
      "<class 'pandas.core.frame.DataFrame'>\n",
      "RangeIndex: 437 entries, 0 to 436\n",
      "Data columns (total 28 columns):\n",
      " #   Column                Non-Null Count  Dtype  \n",
      "---  ------                --------------  -----  \n",
      " 0   PID                   437 non-null    int64  \n",
      " 1   county                437 non-null    object \n",
      " 2   state                 437 non-null    object \n",
      " 3   area                  437 non-null    float64\n",
      " 4   poptotal              437 non-null    int64  \n",
      " 5   popdensity            437 non-null    float64\n",
      " 6   popwhite              437 non-null    int64  \n",
      " 7   popblack              437 non-null    int64  \n",
      " 8   popamerindian         437 non-null    int64  \n",
      " 9   popasian              437 non-null    int64  \n",
      " 10  popother              437 non-null    int64  \n",
      " 11  percwhite             437 non-null    float64\n",
      " 12  percblack             437 non-null    float64\n",
      " 13  percamerindan         437 non-null    float64\n",
      " 14  percasian             437 non-null    float64\n",
      " 15  percother             437 non-null    float64\n",
      " 16  popadults             437 non-null    int64  \n",
      " 17  perchsd               437 non-null    float64\n",
      " 18  percollege            437 non-null    float64\n",
      " 19  percprof              437 non-null    float64\n",
      " 20  poppovertyknown       437 non-null    int64  \n",
      " 21  percpovertyknown      437 non-null    float64\n",
      " 22  percbelowpoverty      437 non-null    float64\n",
      " 23  percchildbelowpovert  437 non-null    float64\n",
      " 24  percadultpoverty      437 non-null    float64\n",
      " 25  percelderlypoverty    437 non-null    float64\n",
      " 26  inmetro               437 non-null    int64  \n",
      " 27  category              437 non-null    object \n",
      "dtypes: float64(15), int64(10), object(3)\n",
      "memory usage: 95.7+ KB\n"
     ]
    }
   ],
   "source": [
    "midwest = pd.read_csv('data/midwest.csv')\n",
    "midwest.info()"
   ]
  },
  {
   "cell_type": "code",
   "execution_count": 25,
   "metadata": {},
   "outputs": [],
   "source": [
    "midwest_new = midwest.copy()\n",
    "midwest_new = midwest.rename(columns = {'poptotal' : 'total', 'popasian' : 'asian'})"
   ]
  },
  {
   "cell_type": "code",
   "execution_count": 31,
   "metadata": {},
   "outputs": [
    {
     "data": {
      "text/plain": "0       66090\n1       10626\n2       14991\n3       30806\n4        5836\n        ...  \n432    304715\n433     46104\n434     19385\n435    140320\n436     73605\nName: total, Length: 437, dtype: int64"
     },
     "execution_count": 31,
     "metadata": {},
     "output_type": "execute_result"
    }
   ],
   "source": [
    "midwest_new['asian_rate'] = midwest_new['asian'] / midwest_new['total'] * 100\n",
    "midwest_new['asian_rate'].plot.hist()"
   ]
  },
  {
   "cell_type": "code",
   "execution_count": 33,
   "metadata": {},
   "outputs": [
    {
     "data": {
      "text/plain": "0.48724618343573406"
     },
     "execution_count": 33,
     "metadata": {},
     "output_type": "execute_result"
    }
   ],
   "source": [
    "midwest_new['asian_rate'].mean()"
   ]
  },
  {
   "cell_type": "code",
   "execution_count": 35,
   "metadata": {},
   "outputs": [
    {
     "ename": "KeyError",
     "evalue": "'asian_rate'",
     "output_type": "error",
     "traceback": [
      "\u001b[0;31m---------------------------------------------------------------------------\u001b[0m",
      "\u001b[0;31mKeyError\u001b[0m                                  Traceback (most recent call last)",
      "File \u001b[0;32m~/opt/anaconda3/lib/python3.9/site-packages/pandas/core/indexes/base.py:3621\u001b[0m, in \u001b[0;36mIndex.get_loc\u001b[0;34m(self, key, method, tolerance)\u001b[0m\n\u001b[1;32m   3620\u001b[0m \u001b[38;5;28;01mtry\u001b[39;00m:\n\u001b[0;32m-> 3621\u001b[0m     \u001b[38;5;28;01mreturn\u001b[39;00m \u001b[38;5;28;43mself\u001b[39;49m\u001b[38;5;241;43m.\u001b[39;49m\u001b[43m_engine\u001b[49m\u001b[38;5;241;43m.\u001b[39;49m\u001b[43mget_loc\u001b[49m\u001b[43m(\u001b[49m\u001b[43mcasted_key\u001b[49m\u001b[43m)\u001b[49m\n\u001b[1;32m   3622\u001b[0m \u001b[38;5;28;01mexcept\u001b[39;00m \u001b[38;5;167;01mKeyError\u001b[39;00m \u001b[38;5;28;01mas\u001b[39;00m err:\n",
      "File \u001b[0;32m~/opt/anaconda3/lib/python3.9/site-packages/pandas/_libs/index.pyx:136\u001b[0m, in \u001b[0;36mpandas._libs.index.IndexEngine.get_loc\u001b[0;34m()\u001b[0m\n",
      "File \u001b[0;32m~/opt/anaconda3/lib/python3.9/site-packages/pandas/_libs/index.pyx:163\u001b[0m, in \u001b[0;36mpandas._libs.index.IndexEngine.get_loc\u001b[0;34m()\u001b[0m\n",
      "File \u001b[0;32mpandas/_libs/hashtable_class_helper.pxi:5198\u001b[0m, in \u001b[0;36mpandas._libs.hashtable.PyObjectHashTable.get_item\u001b[0;34m()\u001b[0m\n",
      "File \u001b[0;32mpandas/_libs/hashtable_class_helper.pxi:5206\u001b[0m, in \u001b[0;36mpandas._libs.hashtable.PyObjectHashTable.get_item\u001b[0;34m()\u001b[0m\n",
      "\u001b[0;31mKeyError\u001b[0m: 'asian_rate'",
      "\nThe above exception was the direct cause of the following exception:\n",
      "\u001b[0;31mKeyError\u001b[0m                                  Traceback (most recent call last)",
      "Input \u001b[0;32mIn [35]\u001b[0m, in \u001b[0;36m<cell line: 1>\u001b[0;34m()\u001b[0m\n\u001b[0;32m----> 1\u001b[0m midwest_new[\u001b[38;5;124m'\u001b[39m\u001b[38;5;124mgroup\u001b[39m\u001b[38;5;124m'\u001b[39m] \u001b[38;5;241m=\u001b[39m np\u001b[38;5;241m.\u001b[39mwhere(\u001b[43mmidwest\u001b[49m\u001b[43m[\u001b[49m\u001b[38;5;124;43m'\u001b[39;49m\u001b[38;5;124;43masian_rate\u001b[39;49m\u001b[38;5;124;43m'\u001b[39;49m\u001b[43m]\u001b[49m \u001b[38;5;241m>\u001b[39m \u001b[38;5;241m0.4872\u001b[39m, \u001b[38;5;124m'\u001b[39m\u001b[38;5;124mlarge\u001b[39m\u001b[38;5;124m'\u001b[39m, \u001b[38;5;124m'\u001b[39m\u001b[38;5;124msmall\u001b[39m\u001b[38;5;124m'\u001b[39m)\n\u001b[1;32m      2\u001b[0m midwest_new[\u001b[38;5;124m'\u001b[39m\u001b[38;5;124mgroup\u001b[39m\u001b[38;5;124m'\u001b[39m]\n",
      "File \u001b[0;32m~/opt/anaconda3/lib/python3.9/site-packages/pandas/core/frame.py:3505\u001b[0m, in \u001b[0;36mDataFrame.__getitem__\u001b[0;34m(self, key)\u001b[0m\n\u001b[1;32m   3503\u001b[0m \u001b[38;5;28;01mif\u001b[39;00m \u001b[38;5;28mself\u001b[39m\u001b[38;5;241m.\u001b[39mcolumns\u001b[38;5;241m.\u001b[39mnlevels \u001b[38;5;241m>\u001b[39m \u001b[38;5;241m1\u001b[39m:\n\u001b[1;32m   3504\u001b[0m     \u001b[38;5;28;01mreturn\u001b[39;00m \u001b[38;5;28mself\u001b[39m\u001b[38;5;241m.\u001b[39m_getitem_multilevel(key)\n\u001b[0;32m-> 3505\u001b[0m indexer \u001b[38;5;241m=\u001b[39m \u001b[38;5;28;43mself\u001b[39;49m\u001b[38;5;241;43m.\u001b[39;49m\u001b[43mcolumns\u001b[49m\u001b[38;5;241;43m.\u001b[39;49m\u001b[43mget_loc\u001b[49m\u001b[43m(\u001b[49m\u001b[43mkey\u001b[49m\u001b[43m)\u001b[49m\n\u001b[1;32m   3506\u001b[0m \u001b[38;5;28;01mif\u001b[39;00m is_integer(indexer):\n\u001b[1;32m   3507\u001b[0m     indexer \u001b[38;5;241m=\u001b[39m [indexer]\n",
      "File \u001b[0;32m~/opt/anaconda3/lib/python3.9/site-packages/pandas/core/indexes/base.py:3623\u001b[0m, in \u001b[0;36mIndex.get_loc\u001b[0;34m(self, key, method, tolerance)\u001b[0m\n\u001b[1;32m   3621\u001b[0m     \u001b[38;5;28;01mreturn\u001b[39;00m \u001b[38;5;28mself\u001b[39m\u001b[38;5;241m.\u001b[39m_engine\u001b[38;5;241m.\u001b[39mget_loc(casted_key)\n\u001b[1;32m   3622\u001b[0m \u001b[38;5;28;01mexcept\u001b[39;00m \u001b[38;5;167;01mKeyError\u001b[39;00m \u001b[38;5;28;01mas\u001b[39;00m err:\n\u001b[0;32m-> 3623\u001b[0m     \u001b[38;5;28;01mraise\u001b[39;00m \u001b[38;5;167;01mKeyError\u001b[39;00m(key) \u001b[38;5;28;01mfrom\u001b[39;00m \u001b[38;5;21;01merr\u001b[39;00m\n\u001b[1;32m   3624\u001b[0m \u001b[38;5;28;01mexcept\u001b[39;00m \u001b[38;5;167;01mTypeError\u001b[39;00m:\n\u001b[1;32m   3625\u001b[0m     \u001b[38;5;66;03m# If we have a listlike key, _check_indexing_error will raise\u001b[39;00m\n\u001b[1;32m   3626\u001b[0m     \u001b[38;5;66;03m#  InvalidIndexError. Otherwise we fall through and re-raise\u001b[39;00m\n\u001b[1;32m   3627\u001b[0m     \u001b[38;5;66;03m#  the TypeError.\u001b[39;00m\n\u001b[1;32m   3628\u001b[0m     \u001b[38;5;28mself\u001b[39m\u001b[38;5;241m.\u001b[39m_check_indexing_error(key)\n",
      "\u001b[0;31mKeyError\u001b[0m: 'asian_rate'"
     ]
    }
   ],
   "source": [
    "midwest_new['group'] = np.where(midwest_new['asian_rate'] > 0.4872, 'large', 'small')\n",
    "midwest_new['group']"
   ]
  }
 ],
 "metadata": {
  "kernelspec": {
   "display_name": "Python 3.9.12 64-bit ('base': conda)",
   "name": "python3912jvsc74a57bd09fdced22d77102b5601c8f6ec647391a5080fbbd8dc561881d6412554a470c13"
  },
  "language_info": {
   "codemirror_mode": {
    "name": "ipython",
    "version": 3
   },
   "file_extension": ".py",
   "mimetype": "text/x-python",
   "name": "python",
   "nbconvert_exporter": "python",
   "pygments_lexer": "ipython3",
   "version": "3.9.12"
  },
  "orig_nbformat": 2
 },
 "nbformat": 4,
 "nbformat_minor": 2
}