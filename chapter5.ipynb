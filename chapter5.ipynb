{
 "cells": [
  {
   "cell_type": "code",
   "execution_count": 18,
   "metadata": {},
   "outputs": [
    {
     "data": {
      "text/html": "<div>\n<style scoped>\n    .dataframe tbody tr th:only-of-type {\n        vertical-align: middle;\n    }\n\n    .dataframe tbody tr th {\n        vertical-align: top;\n    }\n\n    .dataframe thead th {\n        text-align: right;\n    }\n</style>\n<table border=\"1\" class=\"dataframe\">\n  <thead>\n    <tr style=\"text-align: right;\">\n      <th></th>\n      <th>id</th>\n      <th>nclass</th>\n      <th>math</th>\n      <th>english</th>\n      <th>science</th>\n    </tr>\n  </thead>\n  <tbody>\n    <tr>\n      <th>0</th>\n      <td>1</td>\n      <td>1</td>\n      <td>50</td>\n      <td>98</td>\n      <td>50</td>\n    </tr>\n    <tr>\n      <th>1</th>\n      <td>2</td>\n      <td>1</td>\n      <td>60</td>\n      <td>97</td>\n      <td>60</td>\n    </tr>\n    <tr>\n      <th>2</th>\n      <td>3</td>\n      <td>1</td>\n      <td>45</td>\n      <td>86</td>\n      <td>78</td>\n    </tr>\n    <tr>\n      <th>3</th>\n      <td>4</td>\n      <td>1</td>\n      <td>30</td>\n      <td>98</td>\n      <td>58</td>\n    </tr>\n    <tr>\n      <th>4</th>\n      <td>5</td>\n      <td>2</td>\n      <td>25</td>\n      <td>80</td>\n      <td>65</td>\n    </tr>\n  </tbody>\n</table>\n</div>",
      "text/plain": "   id  nclass  math  english  science\n0   1       1    50       98       50\n1   2       1    60       97       60\n2   3       1    45       86       78\n3   4       1    30       98       58\n4   5       2    25       80       65"
     },
     "execution_count": 18,
     "metadata": {},
     "output_type": "execute_result"
    }
   ],
   "source": [
    "import pandas as pd\n",
    "import numpy as np\n",
    "exam = pd.read_csv('data/exam.csv')\n",
    "exam.head()"
   ]
  },
  {
   "cell_type": "code",
   "execution_count": 19,
   "metadata": {},
   "outputs": [
    {
     "data": {
      "text/html": "<div>\n<style scoped>\n    .dataframe tbody tr th:only-of-type {\n        vertical-align: middle;\n    }\n\n    .dataframe tbody tr th {\n        vertical-align: top;\n    }\n\n    .dataframe thead th {\n        text-align: right;\n    }\n</style>\n<table border=\"1\" class=\"dataframe\">\n  <thead>\n    <tr style=\"text-align: right;\">\n      <th></th>\n      <th>id</th>\n      <th>nclass</th>\n      <th>math</th>\n      <th>english</th>\n      <th>science</th>\n    </tr>\n  </thead>\n  <tbody>\n    <tr>\n      <th>0</th>\n      <td>1</td>\n      <td>1</td>\n      <td>50</td>\n      <td>98</td>\n      <td>50</td>\n    </tr>\n    <tr>\n      <th>1</th>\n      <td>2</td>\n      <td>1</td>\n      <td>60</td>\n      <td>97</td>\n      <td>60</td>\n    </tr>\n    <tr>\n      <th>2</th>\n      <td>3</td>\n      <td>1</td>\n      <td>45</td>\n      <td>86</td>\n      <td>78</td>\n    </tr>\n    <tr>\n      <th>3</th>\n      <td>4</td>\n      <td>1</td>\n      <td>30</td>\n      <td>98</td>\n      <td>58</td>\n    </tr>\n    <tr>\n      <th>4</th>\n      <td>5</td>\n      <td>2</td>\n      <td>25</td>\n      <td>80</td>\n      <td>65</td>\n    </tr>\n    <tr>\n      <th>5</th>\n      <td>6</td>\n      <td>2</td>\n      <td>50</td>\n      <td>89</td>\n      <td>98</td>\n    </tr>\n    <tr>\n      <th>6</th>\n      <td>7</td>\n      <td>2</td>\n      <td>80</td>\n      <td>90</td>\n      <td>45</td>\n    </tr>\n    <tr>\n      <th>7</th>\n      <td>8</td>\n      <td>2</td>\n      <td>90</td>\n      <td>78</td>\n      <td>25</td>\n    </tr>\n    <tr>\n      <th>8</th>\n      <td>9</td>\n      <td>3</td>\n      <td>20</td>\n      <td>98</td>\n      <td>15</td>\n    </tr>\n    <tr>\n      <th>9</th>\n      <td>10</td>\n      <td>3</td>\n      <td>50</td>\n      <td>98</td>\n      <td>45</td>\n    </tr>\n  </tbody>\n</table>\n</div>",
      "text/plain": "   id  nclass  math  english  science\n0   1       1    50       98       50\n1   2       1    60       97       60\n2   3       1    45       86       78\n3   4       1    30       98       58\n4   5       2    25       80       65\n5   6       2    50       89       98\n6   7       2    80       90       45\n7   8       2    90       78       25\n8   9       3    20       98       15\n9  10       3    50       98       45"
     },
     "execution_count": 19,
     "metadata": {},
     "output_type": "execute_result"
    }
   ],
   "source": [
    "exam.head(10)"
   ]
  },
  {
   "cell_type": "code",
   "execution_count": 20,
   "metadata": {},
   "outputs": [
    {
     "data": {
      "text/html": "<div>\n<style scoped>\n    .dataframe tbody tr th:only-of-type {\n        vertical-align: middle;\n    }\n\n    .dataframe tbody tr th {\n        vertical-align: top;\n    }\n\n    .dataframe thead th {\n        text-align: right;\n    }\n</style>\n<table border=\"1\" class=\"dataframe\">\n  <thead>\n    <tr style=\"text-align: right;\">\n      <th></th>\n      <th>id</th>\n      <th>nclass</th>\n      <th>math</th>\n      <th>english</th>\n      <th>science</th>\n    </tr>\n  </thead>\n  <tbody>\n    <tr>\n      <th>15</th>\n      <td>16</td>\n      <td>4</td>\n      <td>58</td>\n      <td>98</td>\n      <td>65</td>\n    </tr>\n    <tr>\n      <th>16</th>\n      <td>17</td>\n      <td>5</td>\n      <td>65</td>\n      <td>68</td>\n      <td>98</td>\n    </tr>\n    <tr>\n      <th>17</th>\n      <td>18</td>\n      <td>5</td>\n      <td>80</td>\n      <td>78</td>\n      <td>90</td>\n    </tr>\n    <tr>\n      <th>18</th>\n      <td>19</td>\n      <td>5</td>\n      <td>89</td>\n      <td>68</td>\n      <td>87</td>\n    </tr>\n    <tr>\n      <th>19</th>\n      <td>20</td>\n      <td>5</td>\n      <td>78</td>\n      <td>83</td>\n      <td>58</td>\n    </tr>\n  </tbody>\n</table>\n</div>",
      "text/plain": "    id  nclass  math  english  science\n15  16       4    58       98       65\n16  17       5    65       68       98\n17  18       5    80       78       90\n18  19       5    89       68       87\n19  20       5    78       83       58"
     },
     "execution_count": 20,
     "metadata": {},
     "output_type": "execute_result"
    }
   ],
   "source": [
    "exam.tail()"
   ]
  },
  {
   "cell_type": "code",
   "execution_count": 21,
   "metadata": {},
   "outputs": [
    {
     "data": {
      "text/html": "<div>\n<style scoped>\n    .dataframe tbody tr th:only-of-type {\n        vertical-align: middle;\n    }\n\n    .dataframe tbody tr th {\n        vertical-align: top;\n    }\n\n    .dataframe thead th {\n        text-align: right;\n    }\n</style>\n<table border=\"1\" class=\"dataframe\">\n  <thead>\n    <tr style=\"text-align: right;\">\n      <th></th>\n      <th>id</th>\n      <th>nclass</th>\n      <th>math</th>\n      <th>english</th>\n      <th>science</th>\n    </tr>\n  </thead>\n  <tbody>\n    <tr>\n      <th>10</th>\n      <td>11</td>\n      <td>3</td>\n      <td>65</td>\n      <td>65</td>\n      <td>65</td>\n    </tr>\n    <tr>\n      <th>11</th>\n      <td>12</td>\n      <td>3</td>\n      <td>45</td>\n      <td>85</td>\n      <td>32</td>\n    </tr>\n    <tr>\n      <th>12</th>\n      <td>13</td>\n      <td>4</td>\n      <td>46</td>\n      <td>98</td>\n      <td>65</td>\n    </tr>\n    <tr>\n      <th>13</th>\n      <td>14</td>\n      <td>4</td>\n      <td>48</td>\n      <td>87</td>\n      <td>12</td>\n    </tr>\n    <tr>\n      <th>14</th>\n      <td>15</td>\n      <td>4</td>\n      <td>75</td>\n      <td>56</td>\n      <td>78</td>\n    </tr>\n    <tr>\n      <th>15</th>\n      <td>16</td>\n      <td>4</td>\n      <td>58</td>\n      <td>98</td>\n      <td>65</td>\n    </tr>\n    <tr>\n      <th>16</th>\n      <td>17</td>\n      <td>5</td>\n      <td>65</td>\n      <td>68</td>\n      <td>98</td>\n    </tr>\n    <tr>\n      <th>17</th>\n      <td>18</td>\n      <td>5</td>\n      <td>80</td>\n      <td>78</td>\n      <td>90</td>\n    </tr>\n    <tr>\n      <th>18</th>\n      <td>19</td>\n      <td>5</td>\n      <td>89</td>\n      <td>68</td>\n      <td>87</td>\n    </tr>\n    <tr>\n      <th>19</th>\n      <td>20</td>\n      <td>5</td>\n      <td>78</td>\n      <td>83</td>\n      <td>58</td>\n    </tr>\n  </tbody>\n</table>\n</div>",
      "text/plain": "    id  nclass  math  english  science\n10  11       3    65       65       65\n11  12       3    45       85       32\n12  13       4    46       98       65\n13  14       4    48       87       12\n14  15       4    75       56       78\n15  16       4    58       98       65\n16  17       5    65       68       98\n17  18       5    80       78       90\n18  19       5    89       68       87\n19  20       5    78       83       58"
     },
     "execution_count": 21,
     "metadata": {},
     "output_type": "execute_result"
    }
   ],
   "source": [
    "exam.tail(10)"
   ]
  },
  {
   "cell_type": "code",
   "execution_count": 22,
   "metadata": {},
   "outputs": [
    {
     "data": {
      "text/plain": "(20, 5)"
     },
     "execution_count": 22,
     "metadata": {},
     "output_type": "execute_result"
    }
   ],
   "source": [
    "exam.shape"
   ]
  },
  {
   "cell_type": "code",
   "execution_count": 23,
   "metadata": {},
   "outputs": [
    {
     "name": "stdout",
     "output_type": "stream",
     "text": [
      "<class 'pandas.core.frame.DataFrame'>\n",
      "RangeIndex: 20 entries, 0 to 19\n",
      "Data columns (total 5 columns):\n",
      " #   Column   Non-Null Count  Dtype\n",
      "---  ------   --------------  -----\n",
      " 0   id       20 non-null     int64\n",
      " 1   nclass   20 non-null     int64\n",
      " 2   math     20 non-null     int64\n",
      " 3   english  20 non-null     int64\n",
      " 4   science  20 non-null     int64\n",
      "dtypes: int64(5)\n",
      "memory usage: 928.0 bytes\n"
     ]
    }
   ],
   "source": [
    "exam.info()"
   ]
  },
  {
   "cell_type": "code",
   "execution_count": 24,
   "metadata": {},
   "outputs": [
    {
     "data": {
      "text/html": "<div>\n<style scoped>\n    .dataframe tbody tr th:only-of-type {\n        vertical-align: middle;\n    }\n\n    .dataframe tbody tr th {\n        vertical-align: top;\n    }\n\n    .dataframe thead th {\n        text-align: right;\n    }\n</style>\n<table border=\"1\" class=\"dataframe\">\n  <thead>\n    <tr style=\"text-align: right;\">\n      <th></th>\n      <th>id</th>\n      <th>nclass</th>\n      <th>math</th>\n      <th>english</th>\n      <th>science</th>\n    </tr>\n  </thead>\n  <tbody>\n    <tr>\n      <th>count</th>\n      <td>20.00000</td>\n      <td>20.000000</td>\n      <td>20.000000</td>\n      <td>20.000000</td>\n      <td>20.000000</td>\n    </tr>\n    <tr>\n      <th>mean</th>\n      <td>10.50000</td>\n      <td>3.000000</td>\n      <td>57.450000</td>\n      <td>84.900000</td>\n      <td>59.450000</td>\n    </tr>\n    <tr>\n      <th>std</th>\n      <td>5.91608</td>\n      <td>1.450953</td>\n      <td>20.299015</td>\n      <td>12.875517</td>\n      <td>25.292968</td>\n    </tr>\n    <tr>\n      <th>min</th>\n      <td>1.00000</td>\n      <td>1.000000</td>\n      <td>20.000000</td>\n      <td>56.000000</td>\n      <td>12.000000</td>\n    </tr>\n    <tr>\n      <th>25%</th>\n      <td>5.75000</td>\n      <td>2.000000</td>\n      <td>45.750000</td>\n      <td>78.000000</td>\n      <td>45.000000</td>\n    </tr>\n    <tr>\n      <th>50%</th>\n      <td>10.50000</td>\n      <td>3.000000</td>\n      <td>54.000000</td>\n      <td>86.500000</td>\n      <td>62.500000</td>\n    </tr>\n    <tr>\n      <th>75%</th>\n      <td>15.25000</td>\n      <td>4.000000</td>\n      <td>75.750000</td>\n      <td>98.000000</td>\n      <td>78.000000</td>\n    </tr>\n    <tr>\n      <th>max</th>\n      <td>20.00000</td>\n      <td>5.000000</td>\n      <td>90.000000</td>\n      <td>98.000000</td>\n      <td>98.000000</td>\n    </tr>\n  </tbody>\n</table>\n</div>",
      "text/plain": "             id     nclass       math    english    science\ncount  20.00000  20.000000  20.000000  20.000000  20.000000\nmean   10.50000   3.000000  57.450000  84.900000  59.450000\nstd     5.91608   1.450953  20.299015  12.875517  25.292968\nmin     1.00000   1.000000  20.000000  56.000000  12.000000\n25%     5.75000   2.000000  45.750000  78.000000  45.000000\n50%    10.50000   3.000000  54.000000  86.500000  62.500000\n75%    15.25000   4.000000  75.750000  98.000000  78.000000\nmax    20.00000   5.000000  90.000000  98.000000  98.000000"
     },
     "execution_count": 24,
     "metadata": {},
     "output_type": "execute_result"
    }
   ],
   "source": [
    "exam.describe()"
   ]
  },
  {
   "cell_type": "code",
   "execution_count": 25,
   "metadata": {},
   "outputs": [
    {
     "name": "stdout",
     "output_type": "stream",
     "text": [
      "<class 'pandas.core.frame.DataFrame'>\n",
      "RangeIndex: 437 entries, 0 to 436\n",
      "Data columns (total 28 columns):\n",
      " #   Column                Non-Null Count  Dtype  \n",
      "---  ------                --------------  -----  \n",
      " 0   PID                   437 non-null    int64  \n",
      " 1   county                437 non-null    object \n",
      " 2   state                 437 non-null    object \n",
      " 3   area                  437 non-null    float64\n",
      " 4   poptotal              437 non-null    int64  \n",
      " 5   popdensity            437 non-null    float64\n",
      " 6   popwhite              437 non-null    int64  \n",
      " 7   popblack              437 non-null    int64  \n",
      " 8   popamerindian         437 non-null    int64  \n",
      " 9   popasian              437 non-null    int64  \n",
      " 10  popother              437 non-null    int64  \n",
      " 11  percwhite             437 non-null    float64\n",
      " 12  percblack             437 non-null    float64\n",
      " 13  percamerindan         437 non-null    float64\n",
      " 14  percasian             437 non-null    float64\n",
      " 15  percother             437 non-null    float64\n",
      " 16  popadults             437 non-null    int64  \n",
      " 17  perchsd               437 non-null    float64\n",
      " 18  percollege            437 non-null    float64\n",
      " 19  percprof              437 non-null    float64\n",
      " 20  poppovertyknown       437 non-null    int64  \n",
      " 21  percpovertyknown      437 non-null    float64\n",
      " 22  percbelowpoverty      437 non-null    float64\n",
      " 23  percchildbelowpovert  437 non-null    float64\n",
      " 24  percadultpoverty      437 non-null    float64\n",
      " 25  percelderlypoverty    437 non-null    float64\n",
      " 26  inmetro               437 non-null    int64  \n",
      " 27  category              437 non-null    object \n",
      "dtypes: float64(15), int64(10), object(3)\n",
      "memory usage: 95.7+ KB\n"
     ]
    }
   ],
   "source": [
    "midwest = pd.read_csv('data/midwest.csv')\n",
    "midwest.info()"
   ]
  },
  {
   "cell_type": "code",
   "execution_count": 26,
   "metadata": {},
   "outputs": [
    {
     "data": {
      "text/html": "<div>\n<style scoped>\n    .dataframe tbody tr th:only-of-type {\n        vertical-align: middle;\n    }\n\n    .dataframe tbody tr th {\n        vertical-align: top;\n    }\n\n    .dataframe thead th {\n        text-align: right;\n    }\n</style>\n<table border=\"1\" class=\"dataframe\">\n  <thead>\n    <tr style=\"text-align: right;\">\n      <th></th>\n      <th>PID</th>\n      <th>county</th>\n      <th>state</th>\n      <th>area</th>\n      <th>total</th>\n      <th>popdensity</th>\n      <th>popwhite</th>\n      <th>popblack</th>\n      <th>popamerindian</th>\n      <th>asian</th>\n      <th>...</th>\n      <th>percollege</th>\n      <th>percprof</th>\n      <th>poppovertyknown</th>\n      <th>percpovertyknown</th>\n      <th>percbelowpoverty</th>\n      <th>percchildbelowpovert</th>\n      <th>percadultpoverty</th>\n      <th>percelderlypoverty</th>\n      <th>inmetro</th>\n      <th>category</th>\n    </tr>\n  </thead>\n  <tbody>\n    <tr>\n      <th>0</th>\n      <td>561</td>\n      <td>ADAMS</td>\n      <td>IL</td>\n      <td>0.052</td>\n      <td>66090</td>\n      <td>1270.961540</td>\n      <td>63917</td>\n      <td>1702</td>\n      <td>98</td>\n      <td>249</td>\n      <td>...</td>\n      <td>19.631392</td>\n      <td>4.355859</td>\n      <td>63628</td>\n      <td>96.274777</td>\n      <td>13.151443</td>\n      <td>18.011717</td>\n      <td>11.009776</td>\n      <td>12.443812</td>\n      <td>0</td>\n      <td>AAR</td>\n    </tr>\n    <tr>\n      <th>1</th>\n      <td>562</td>\n      <td>ALEXANDER</td>\n      <td>IL</td>\n      <td>0.014</td>\n      <td>10626</td>\n      <td>759.000000</td>\n      <td>7054</td>\n      <td>3496</td>\n      <td>19</td>\n      <td>48</td>\n      <td>...</td>\n      <td>11.243308</td>\n      <td>2.870315</td>\n      <td>10529</td>\n      <td>99.087145</td>\n      <td>32.244278</td>\n      <td>45.826514</td>\n      <td>27.385647</td>\n      <td>25.228976</td>\n      <td>0</td>\n      <td>LHR</td>\n    </tr>\n    <tr>\n      <th>2</th>\n      <td>563</td>\n      <td>BOND</td>\n      <td>IL</td>\n      <td>0.022</td>\n      <td>14991</td>\n      <td>681.409091</td>\n      <td>14477</td>\n      <td>429</td>\n      <td>35</td>\n      <td>16</td>\n      <td>...</td>\n      <td>17.033819</td>\n      <td>4.488572</td>\n      <td>14235</td>\n      <td>94.956974</td>\n      <td>12.068844</td>\n      <td>14.036061</td>\n      <td>10.852090</td>\n      <td>12.697410</td>\n      <td>0</td>\n      <td>AAR</td>\n    </tr>\n    <tr>\n      <th>3</th>\n      <td>564</td>\n      <td>BOONE</td>\n      <td>IL</td>\n      <td>0.017</td>\n      <td>30806</td>\n      <td>1812.117650</td>\n      <td>29344</td>\n      <td>127</td>\n      <td>46</td>\n      <td>150</td>\n      <td>...</td>\n      <td>17.278954</td>\n      <td>4.197800</td>\n      <td>30337</td>\n      <td>98.477569</td>\n      <td>7.209019</td>\n      <td>11.179536</td>\n      <td>5.536013</td>\n      <td>6.217047</td>\n      <td>1</td>\n      <td>ALU</td>\n    </tr>\n    <tr>\n      <th>4</th>\n      <td>565</td>\n      <td>BROWN</td>\n      <td>IL</td>\n      <td>0.018</td>\n      <td>5836</td>\n      <td>324.222222</td>\n      <td>5264</td>\n      <td>547</td>\n      <td>14</td>\n      <td>5</td>\n      <td>...</td>\n      <td>14.475999</td>\n      <td>3.367680</td>\n      <td>4815</td>\n      <td>82.505140</td>\n      <td>13.520249</td>\n      <td>13.022889</td>\n      <td>11.143211</td>\n      <td>19.200000</td>\n      <td>0</td>\n      <td>AAR</td>\n    </tr>\n  </tbody>\n</table>\n<p>5 rows × 28 columns</p>\n</div>",
      "text/plain": "   PID     county state   area  total   popdensity  popwhite  popblack  \\\n0  561      ADAMS    IL  0.052  66090  1270.961540     63917      1702   \n1  562  ALEXANDER    IL  0.014  10626   759.000000      7054      3496   \n2  563       BOND    IL  0.022  14991   681.409091     14477       429   \n3  564      BOONE    IL  0.017  30806  1812.117650     29344       127   \n4  565      BROWN    IL  0.018   5836   324.222222      5264       547   \n\n   popamerindian  asian  ...  percollege  percprof  poppovertyknown  \\\n0             98    249  ...   19.631392  4.355859            63628   \n1             19     48  ...   11.243308  2.870315            10529   \n2             35     16  ...   17.033819  4.488572            14235   \n3             46    150  ...   17.278954  4.197800            30337   \n4             14      5  ...   14.475999  3.367680             4815   \n\n   percpovertyknown  percbelowpoverty  percchildbelowpovert  percadultpoverty  \\\n0         96.274777         13.151443             18.011717         11.009776   \n1         99.087145         32.244278             45.826514         27.385647   \n2         94.956974         12.068844             14.036061         10.852090   \n3         98.477569          7.209019             11.179536          5.536013   \n4         82.505140         13.520249             13.022889         11.143211   \n\n   percelderlypoverty  inmetro  category  \n0           12.443812        0       AAR  \n1           25.228976        0       LHR  \n2           12.697410        0       AAR  \n3            6.217047        1       ALU  \n4           19.200000        0       AAR  \n\n[5 rows x 28 columns]"
     },
     "execution_count": 26,
     "metadata": {},
     "output_type": "execute_result"
    }
   ],
   "source": [
    "import pandas as pd\n",
    "midwest = pd.read_csv('data/midwest.csv')\n",
    "midwest_new = midwest.copy()\n",
    "midwest_new = midwest_new.rename(columns = {'poptotal' : 'total', 'popasian' : 'asian'})\n",
    "midwest_new.head()"
   ]
  },
  {
   "cell_type": "code",
   "execution_count": 27,
   "metadata": {},
   "outputs": [
    {
     "data": {
      "text/plain": "<AxesSubplot:ylabel='Frequency'>"
     },
     "execution_count": 27,
     "metadata": {},
     "output_type": "execute_result"
    },
    {
     "data": {
      "image/png": "[encoded data removed]",
      "text/plain": "<Figure size 432x288 with 1 Axes>"
     },
     "metadata": {
      "needs_background": "light"
     },
     "output_type": "display_data"
    }
   ],
   "source": [
    "midwest_new['asian_rate'] = midwest_new['asian'] / midwest_new['total'] * 100\n",
    "midwest_new['asian_rate'].plot.hist()"
   ]
  },
  {
   "cell_type": "code",
   "execution_count": 28,
   "metadata": {},
   "outputs": [
    {
     "data": {
      "text/plain": "0.48724618343573406"
     },
     "execution_count": 28,
     "metadata": {},
     "output_type": "execute_result"
    }
   ],
   "source": [
    "midwest_new['asian_rate'].mean()"
   ]
  },
  {
   "cell_type": "code",
   "execution_count": 29,
   "metadata": {},
   "outputs": [
    {
     "data": {
      "text/plain": "0      small\n1      small\n2      small\n3      small\n4      small\n       ...  \n432    large\n433    small\n434    small\n435    large\n436    large\nName: group, Length: 437, dtype: object"
     },
     "execution_count": 29,
     "metadata": {},
     "output_type": "execute_result"
    }
   ],
   "source": [
    "midwest_new['group'] = np.where(midwest_new['asian_rate'] > 0.4872, 'large', 'small')\n",
    "midwest_new['group']"
   ]
  },
  {
   "cell_type": "code",
   "execution_count": 30,
   "metadata": {},
   "outputs": [
    {
     "data": {
      "text/plain": "<AxesSubplot:>"
     },
     "execution_count": 30,
     "metadata": {},
     "output_type": "execute_result"
    },
    {
     "data": {
      "image/png": "[encoded data removed]",
      "text/plain": "<Figure size 432x288 with 1 Axes>"
     },
     "metadata": {
      "needs_background": "light"
     },
     "output_type": "display_data"
    }
   ],
   "source": [
    "count_group = midwest_new['group'].value_counts()\n",
    "count_group.plot.bar(rot = 0)"
   ]
  },
  {
   "cell_type": "code",
   "execution_count": null,
   "metadata": {},
   "outputs": [],
   "source": []
  }
 ],
 "metadata": {
  "kernelspec": {
   "display_name": "Python 3.9.12 64-bit ('base': conda)",
   "name": "python3912jvsc74a57bd09fdced22d77102b5601c8f6ec647391a5080fbbd8dc561881d6412554a470c13"
  },
  "language_info": {
   "codemirror_mode": {
    "name": "ipython",
    "version": 3
   },
   "file_extension": ".py",
   "mimetype": "text/x-python",
   "name": "python",
   "nbconvert_exporter": "python",
   "pygments_lexer": "ipython3",
   "version": "3.9.12"
  },
  "orig_nbformat": 2
 },
 "nbformat": 4,
 "nbformat_minor": 2
}