{
 "cells": [
  {
   "cell_type": "code",
   "execution_count": 2,
   "metadata": {},
   "outputs": [
    {
     "data": {
      "text/plain": "25.96319018404908"
     },
     "execution_count": 2,
     "metadata": {},
     "output_type": "execute_result"
    }
   ],
   "source": [
    "\"\"\" chapter6 혼자서 해보기 p.144\"\"\" \n",
    "import pandas as pd \n",
    "mpg = pd.read_csv('data/mpg.csv')\n",
    "displ1 = mpg.query('displ <= 4')\n",
    "displ2 = mpg.query('displ >= 5')\n",
    "displ1['hwy'].mean()\n"
   ]
  },
  {
   "cell_type": "code",
   "execution_count": 3,
   "metadata": {},
   "outputs": [
    {
     "data": {
      "text/plain": "18.07894736842105"
     },
     "execution_count": 3,
     "metadata": {},
     "output_type": "execute_result"
    }
   ],
   "source": [
    "displ2['hwy'].mean()"
   ]
  },
  {
   "cell_type": "code",
   "execution_count": 4,
   "metadata": {},
   "outputs": [
    {
     "name": "stdout",
     "output_type": "stream",
     "text": [
      "17.61111111111111\n",
      "18.529411764705884\n"
     ]
    }
   ],
   "source": [
    "audi = mpg.query(\"manufacturer == 'audi'\")\n",
    "toyota = mpg.query(\"manufacturer == 'toyota'\")\n",
    "print(audi['cty'].mean())\n",
    "print(toyota['cty'].mean())"
   ]
  },
  {
   "cell_type": "code",
   "execution_count": 5,
   "metadata": {},
   "outputs": [
    {
     "data": {
      "text/plain": "22.50943396226415"
     },
     "execution_count": 5,
     "metadata": {},
     "output_type": "execute_result"
    }
   ],
   "source": [
    "cfh = mpg.query(\"manufacturer == 'chevrolet' | manufacturer == 'ford' | manufacturer == 'honda'\")\n",
    "cfh['hwy'].mean()"
   ]
  },
  {
   "cell_type": "code",
   "execution_count": 6,
   "metadata": {},
   "outputs": [
    {
     "data": {
      "text/html": "<div>\n<style scoped>\n    .dataframe tbody tr th:only-of-type {\n        vertical-align: middle;\n    }\n\n    .dataframe tbody tr th {\n        vertical-align: top;\n    }\n\n    .dataframe thead th {\n        text-align: right;\n    }\n</style>\n<table border=\"1\" class=\"dataframe\">\n  <thead>\n    <tr style=\"text-align: right;\">\n      <th></th>\n      <th>category</th>\n      <th>cty</th>\n    </tr>\n  </thead>\n  <tbody>\n    <tr>\n      <th>0</th>\n      <td>compact</td>\n      <td>18</td>\n    </tr>\n    <tr>\n      <th>1</th>\n      <td>compact</td>\n      <td>21</td>\n    </tr>\n    <tr>\n      <th>2</th>\n      <td>compact</td>\n      <td>20</td>\n    </tr>\n    <tr>\n      <th>3</th>\n      <td>compact</td>\n      <td>21</td>\n    </tr>\n    <tr>\n      <th>4</th>\n      <td>compact</td>\n      <td>16</td>\n    </tr>\n    <tr>\n      <th>...</th>\n      <td>...</td>\n      <td>...</td>\n    </tr>\n    <tr>\n      <th>229</th>\n      <td>midsize</td>\n      <td>19</td>\n    </tr>\n    <tr>\n      <th>230</th>\n      <td>midsize</td>\n      <td>21</td>\n    </tr>\n    <tr>\n      <th>231</th>\n      <td>midsize</td>\n      <td>16</td>\n    </tr>\n    <tr>\n      <th>232</th>\n      <td>midsize</td>\n      <td>18</td>\n    </tr>\n    <tr>\n      <th>233</th>\n      <td>midsize</td>\n      <td>17</td>\n    </tr>\n  </tbody>\n</table>\n<p>234 rows × 2 columns</p>\n</div>",
      "text/plain": "    category  cty\n0    compact   18\n1    compact   21\n2    compact   20\n3    compact   21\n4    compact   16\n..       ...  ...\n229  midsize   19\n230  midsize   21\n231  midsize   16\n232  midsize   18\n233  midsize   17\n\n[234 rows x 2 columns]"
     },
     "execution_count": 6,
     "metadata": {},
     "output_type": "execute_result"
    }
   ],
   "source": [
    "\"\"\" chapter6 혼자서 해보기 p.150\"\"\" \n",
    "cc = mpg[['category', 'cty']]\n",
    "cc"
   ]
  },
  {
   "cell_type": "code",
   "execution_count": 7,
   "metadata": {},
   "outputs": [
    {
     "data": {
      "text/plain": "13.5"
     },
     "execution_count": 7,
     "metadata": {},
     "output_type": "execute_result"
    }
   ],
   "source": [
    "cc.query(\"category == 'suv'\")['cty'].mean()"
   ]
  },
  {
   "cell_type": "code",
   "execution_count": 8,
   "metadata": {},
   "outputs": [
    {
     "data": {
      "text/plain": "20.127659574468087"
     },
     "execution_count": 8,
     "metadata": {},
     "output_type": "execute_result"
    }
   ],
   "source": [
    "cc.query(\"category == 'compact'\")['cty'].mean()"
   ]
  },
  {
   "cell_type": "code",
   "execution_count": 75,
   "metadata": {},
   "outputs": [
    {
     "data": {
      "text/html": "<div>\n<style scoped>\n    .dataframe tbody tr th:only-of-type {\n        vertical-align: middle;\n    }\n\n    .dataframe tbody tr th {\n        vertical-align: top;\n    }\n\n    .dataframe thead th {\n        text-align: right;\n    }\n</style>\n<table border=\"1\" class=\"dataframe\">\n  <thead>\n    <tr style=\"text-align: right;\">\n      <th></th>\n      <th>manufacturer</th>\n      <th>model</th>\n      <th>displ</th>\n      <th>year</th>\n      <th>cyl</th>\n      <th>trans</th>\n      <th>drv</th>\n      <th>cty</th>\n      <th>hwy</th>\n      <th>fl</th>\n      <th>category</th>\n    </tr>\n  </thead>\n  <tbody>\n    <tr>\n      <th>221</th>\n      <td>volkswagen</td>\n      <td>new beetle</td>\n      <td>1.9</td>\n      <td>1999</td>\n      <td>4</td>\n      <td>manual(m5)</td>\n      <td>f</td>\n      <td>35</td>\n      <td>44</td>\n      <td>d</td>\n      <td>subcompact</td>\n    </tr>\n    <tr>\n      <th>212</th>\n      <td>volkswagen</td>\n      <td>jetta</td>\n      <td>1.9</td>\n      <td>1999</td>\n      <td>4</td>\n      <td>manual(m5)</td>\n      <td>f</td>\n      <td>33</td>\n      <td>44</td>\n      <td>d</td>\n      <td>compact</td>\n    </tr>\n    <tr>\n      <th>222</th>\n      <td>volkswagen</td>\n      <td>new beetle</td>\n      <td>1.9</td>\n      <td>1999</td>\n      <td>4</td>\n      <td>auto(l4)</td>\n      <td>f</td>\n      <td>29</td>\n      <td>41</td>\n      <td>d</td>\n      <td>subcompact</td>\n    </tr>\n    <tr>\n      <th>196</th>\n      <td>toyota</td>\n      <td>corolla</td>\n      <td>1.8</td>\n      <td>2008</td>\n      <td>4</td>\n      <td>manual(m5)</td>\n      <td>f</td>\n      <td>28</td>\n      <td>37</td>\n      <td>r</td>\n      <td>compact</td>\n    </tr>\n    <tr>\n      <th>105</th>\n      <td>honda</td>\n      <td>civic</td>\n      <td>1.8</td>\n      <td>2008</td>\n      <td>4</td>\n      <td>auto(l5)</td>\n      <td>f</td>\n      <td>25</td>\n      <td>36</td>\n      <td>r</td>\n      <td>subcompact</td>\n    </tr>\n  </tbody>\n</table>\n</div>",
      "text/plain": "    manufacturer       model  displ  year  cyl       trans drv  cty  hwy fl  \\\n221   volkswagen  new beetle    1.9  1999    4  manual(m5)   f   35   44  d   \n212   volkswagen       jetta    1.9  1999    4  manual(m5)   f   33   44  d   \n222   volkswagen  new beetle    1.9  1999    4    auto(l4)   f   29   41  d   \n196       toyota     corolla    1.8  2008    4  manual(m5)   f   28   37  r   \n105        honda       civic    1.8  2008    4    auto(l5)   f   25   36  r   \n\n       category  \n221  subcompact  \n212     compact  \n222  subcompact  \n196     compact  \n105  subcompact  "
     },
     "execution_count": 75,
     "metadata": {},
     "output_type": "execute_result"
    }
   ],
   "source": [
    "mpg.sort_values('hwy', ascending = False).head(5)"
   ]
  },
  {
   "cell_type": "code",
   "execution_count": 79,
   "metadata": {},
   "outputs": [
    {
     "data": {
      "text/html": "<div>\n<style scoped>\n    .dataframe tbody tr th:only-of-type {\n        vertical-align: middle;\n    }\n\n    .dataframe tbody tr th {\n        vertical-align: top;\n    }\n\n    .dataframe thead th {\n        text-align: right;\n    }\n</style>\n<table border=\"1\" class=\"dataframe\">\n  <thead>\n    <tr style=\"text-align: right;\">\n      <th></th>\n      <th>manufacturer</th>\n      <th>model</th>\n      <th>displ</th>\n      <th>year</th>\n      <th>cyl</th>\n      <th>trans</th>\n      <th>drv</th>\n      <th>cty</th>\n      <th>hwy</th>\n      <th>fl</th>\n      <th>category</th>\n      <th>total</th>\n    </tr>\n  </thead>\n  <tbody>\n    <tr>\n      <th>0</th>\n      <td>audi</td>\n      <td>a4</td>\n      <td>1.8</td>\n      <td>1999</td>\n      <td>4</td>\n      <td>auto(l5)</td>\n      <td>f</td>\n      <td>18</td>\n      <td>29</td>\n      <td>p</td>\n      <td>compact</td>\n      <td>47</td>\n    </tr>\n    <tr>\n      <th>1</th>\n      <td>audi</td>\n      <td>a4</td>\n      <td>1.8</td>\n      <td>1999</td>\n      <td>4</td>\n      <td>manual(m5)</td>\n      <td>f</td>\n      <td>21</td>\n      <td>29</td>\n      <td>p</td>\n      <td>compact</td>\n      <td>50</td>\n    </tr>\n    <tr>\n      <th>2</th>\n      <td>audi</td>\n      <td>a4</td>\n      <td>2.0</td>\n      <td>2008</td>\n      <td>4</td>\n      <td>manual(m6)</td>\n      <td>f</td>\n      <td>20</td>\n      <td>31</td>\n      <td>p</td>\n      <td>compact</td>\n      <td>51</td>\n    </tr>\n    <tr>\n      <th>3</th>\n      <td>audi</td>\n      <td>a4</td>\n      <td>2.0</td>\n      <td>2008</td>\n      <td>4</td>\n      <td>auto(av)</td>\n      <td>f</td>\n      <td>21</td>\n      <td>30</td>\n      <td>p</td>\n      <td>compact</td>\n      <td>51</td>\n    </tr>\n    <tr>\n      <th>4</th>\n      <td>audi</td>\n      <td>a4</td>\n      <td>2.8</td>\n      <td>1999</td>\n      <td>6</td>\n      <td>auto(l5)</td>\n      <td>f</td>\n      <td>16</td>\n      <td>26</td>\n      <td>p</td>\n      <td>compact</td>\n      <td>42</td>\n    </tr>\n    <tr>\n      <th>...</th>\n      <td>...</td>\n      <td>...</td>\n      <td>...</td>\n      <td>...</td>\n      <td>...</td>\n      <td>...</td>\n      <td>...</td>\n      <td>...</td>\n      <td>...</td>\n      <td>...</td>\n      <td>...</td>\n      <td>...</td>\n    </tr>\n    <tr>\n      <th>229</th>\n      <td>volkswagen</td>\n      <td>passat</td>\n      <td>2.0</td>\n      <td>2008</td>\n      <td>4</td>\n      <td>auto(s6)</td>\n      <td>f</td>\n      <td>19</td>\n      <td>28</td>\n      <td>p</td>\n      <td>midsize</td>\n      <td>47</td>\n    </tr>\n    <tr>\n      <th>230</th>\n      <td>volkswagen</td>\n      <td>passat</td>\n      <td>2.0</td>\n      <td>2008</td>\n      <td>4</td>\n      <td>manual(m6)</td>\n      <td>f</td>\n      <td>21</td>\n      <td>29</td>\n      <td>p</td>\n      <td>midsize</td>\n      <td>50</td>\n    </tr>\n    <tr>\n      <th>231</th>\n      <td>volkswagen</td>\n      <td>passat</td>\n      <td>2.8</td>\n      <td>1999</td>\n      <td>6</td>\n      <td>auto(l5)</td>\n      <td>f</td>\n      <td>16</td>\n      <td>26</td>\n      <td>p</td>\n      <td>midsize</td>\n      <td>42</td>\n    </tr>\n    <tr>\n      <th>232</th>\n      <td>volkswagen</td>\n      <td>passat</td>\n      <td>2.8</td>\n      <td>1999</td>\n      <td>6</td>\n      <td>manual(m5)</td>\n      <td>f</td>\n      <td>18</td>\n      <td>26</td>\n      <td>p</td>\n      <td>midsize</td>\n      <td>44</td>\n    </tr>\n    <tr>\n      <th>233</th>\n      <td>volkswagen</td>\n      <td>passat</td>\n      <td>3.6</td>\n      <td>2008</td>\n      <td>6</td>\n      <td>auto(s6)</td>\n      <td>f</td>\n      <td>17</td>\n      <td>26</td>\n      <td>p</td>\n      <td>midsize</td>\n      <td>43</td>\n    </tr>\n  </tbody>\n</table>\n<p>234 rows × 12 columns</p>\n</div>",
      "text/plain": "    manufacturer   model  displ  year  cyl       trans drv  cty  hwy fl  \\\n0           audi      a4    1.8  1999    4    auto(l5)   f   18   29  p   \n1           audi      a4    1.8  1999    4  manual(m5)   f   21   29  p   \n2           audi      a4    2.0  2008    4  manual(m6)   f   20   31  p   \n3           audi      a4    2.0  2008    4    auto(av)   f   21   30  p   \n4           audi      a4    2.8  1999    6    auto(l5)   f   16   26  p   \n..           ...     ...    ...   ...  ...         ...  ..  ...  ... ..   \n229   volkswagen  passat    2.0  2008    4    auto(s6)   f   19   28  p   \n230   volkswagen  passat    2.0  2008    4  manual(m6)   f   21   29  p   \n231   volkswagen  passat    2.8  1999    6    auto(l5)   f   16   26  p   \n232   volkswagen  passat    2.8  1999    6  manual(m5)   f   18   26  p   \n233   volkswagen  passat    3.6  2008    6    auto(s6)   f   17   26  p   \n\n    category  total  \n0    compact     47  \n1    compact     50  \n2    compact     51  \n3    compact     51  \n4    compact     42  \n..       ...    ...  \n229  midsize     47  \n230  midsize     50  \n231  midsize     42  \n232  midsize     44  \n233  midsize     43  \n\n[234 rows x 12 columns]"
     },
     "execution_count": 79,
     "metadata": {},
     "output_type": "execute_result"
    }
   ],
   "source": [
    "mpg_copy = mpg.copy()\n",
    "mpg_copy.assign(total = lambda x : x['cty'] + x['hwy'])"
   ]
  },
  {
   "cell_type": "code",
   "execution_count": 95,
   "metadata": {},
   "outputs": [
    {
     "data": {
      "text/html": "<div>\n<style scoped>\n    .dataframe tbody tr th:only-of-type {\n        vertical-align: middle;\n    }\n\n    .dataframe tbody tr th {\n        vertical-align: top;\n    }\n\n    .dataframe thead th {\n        text-align: right;\n    }\n</style>\n<table border=\"1\" class=\"dataframe\">\n  <thead>\n    <tr style=\"text-align: right;\">\n      <th></th>\n      <th>manufacturer</th>\n      <th>model</th>\n      <th>displ</th>\n      <th>year</th>\n      <th>cyl</th>\n      <th>trans</th>\n      <th>drv</th>\n      <th>cty</th>\n      <th>hwy</th>\n      <th>fl</th>\n      <th>category</th>\n      <th>total</th>\n      <th>mean</th>\n    </tr>\n  </thead>\n  <tbody>\n    <tr>\n      <th>0</th>\n      <td>audi</td>\n      <td>a4</td>\n      <td>1.8</td>\n      <td>1999</td>\n      <td>4</td>\n      <td>auto(l5)</td>\n      <td>f</td>\n      <td>18</td>\n      <td>29</td>\n      <td>p</td>\n      <td>compact</td>\n      <td>47</td>\n      <td>23.5</td>\n    </tr>\n    <tr>\n      <th>1</th>\n      <td>audi</td>\n      <td>a4</td>\n      <td>1.8</td>\n      <td>1999</td>\n      <td>4</td>\n      <td>manual(m5)</td>\n      <td>f</td>\n      <td>21</td>\n      <td>29</td>\n      <td>p</td>\n      <td>compact</td>\n      <td>50</td>\n      <td>25.0</td>\n    </tr>\n    <tr>\n      <th>2</th>\n      <td>audi</td>\n      <td>a4</td>\n      <td>2.0</td>\n      <td>2008</td>\n      <td>4</td>\n      <td>manual(m6)</td>\n      <td>f</td>\n      <td>20</td>\n      <td>31</td>\n      <td>p</td>\n      <td>compact</td>\n      <td>51</td>\n      <td>25.5</td>\n    </tr>\n    <tr>\n      <th>3</th>\n      <td>audi</td>\n      <td>a4</td>\n      <td>2.0</td>\n      <td>2008</td>\n      <td>4</td>\n      <td>auto(av)</td>\n      <td>f</td>\n      <td>21</td>\n      <td>30</td>\n      <td>p</td>\n      <td>compact</td>\n      <td>51</td>\n      <td>25.5</td>\n    </tr>\n    <tr>\n      <th>4</th>\n      <td>audi</td>\n      <td>a4</td>\n      <td>2.8</td>\n      <td>1999</td>\n      <td>6</td>\n      <td>auto(l5)</td>\n      <td>f</td>\n      <td>16</td>\n      <td>26</td>\n      <td>p</td>\n      <td>compact</td>\n      <td>42</td>\n      <td>21.0</td>\n    </tr>\n    <tr>\n      <th>...</th>\n      <td>...</td>\n      <td>...</td>\n      <td>...</td>\n      <td>...</td>\n      <td>...</td>\n      <td>...</td>\n      <td>...</td>\n      <td>...</td>\n      <td>...</td>\n      <td>...</td>\n      <td>...</td>\n      <td>...</td>\n      <td>...</td>\n    </tr>\n    <tr>\n      <th>229</th>\n      <td>volkswagen</td>\n      <td>passat</td>\n      <td>2.0</td>\n      <td>2008</td>\n      <td>4</td>\n      <td>auto(s6)</td>\n      <td>f</td>\n      <td>19</td>\n      <td>28</td>\n      <td>p</td>\n      <td>midsize</td>\n      <td>47</td>\n      <td>23.5</td>\n    </tr>\n    <tr>\n      <th>230</th>\n      <td>volkswagen</td>\n      <td>passat</td>\n      <td>2.0</td>\n      <td>2008</td>\n      <td>4</td>\n      <td>manual(m6)</td>\n      <td>f</td>\n      <td>21</td>\n      <td>29</td>\n      <td>p</td>\n      <td>midsize</td>\n      <td>50</td>\n      <td>25.0</td>\n    </tr>\n    <tr>\n      <th>231</th>\n      <td>volkswagen</td>\n      <td>passat</td>\n      <td>2.8</td>\n      <td>1999</td>\n      <td>6</td>\n      <td>auto(l5)</td>\n      <td>f</td>\n      <td>16</td>\n      <td>26</td>\n      <td>p</td>\n      <td>midsize</td>\n      <td>42</td>\n      <td>21.0</td>\n    </tr>\n    <tr>\n      <th>232</th>\n      <td>volkswagen</td>\n      <td>passat</td>\n      <td>2.8</td>\n      <td>1999</td>\n      <td>6</td>\n      <td>manual(m5)</td>\n      <td>f</td>\n      <td>18</td>\n      <td>26</td>\n      <td>p</td>\n      <td>midsize</td>\n      <td>44</td>\n      <td>22.0</td>\n    </tr>\n    <tr>\n      <th>233</th>\n      <td>volkswagen</td>\n      <td>passat</td>\n      <td>3.6</td>\n      <td>2008</td>\n      <td>6</td>\n      <td>auto(s6)</td>\n      <td>f</td>\n      <td>17</td>\n      <td>26</td>\n      <td>p</td>\n      <td>midsize</td>\n      <td>43</td>\n      <td>21.5</td>\n    </tr>\n  </tbody>\n</table>\n<p>234 rows × 13 columns</p>\n</div>",
      "text/plain": "    manufacturer   model  displ  year  cyl       trans drv  cty  hwy fl  \\\n0           audi      a4    1.8  1999    4    auto(l5)   f   18   29  p   \n1           audi      a4    1.8  1999    4  manual(m5)   f   21   29  p   \n2           audi      a4    2.0  2008    4  manual(m6)   f   20   31  p   \n3           audi      a4    2.0  2008    4    auto(av)   f   21   30  p   \n4           audi      a4    2.8  1999    6    auto(l5)   f   16   26  p   \n..           ...     ...    ...   ...  ...         ...  ..  ...  ... ..   \n229   volkswagen  passat    2.0  2008    4    auto(s6)   f   19   28  p   \n230   volkswagen  passat    2.0  2008    4  manual(m6)   f   21   29  p   \n231   volkswagen  passat    2.8  1999    6    auto(l5)   f   16   26  p   \n232   volkswagen  passat    2.8  1999    6  manual(m5)   f   18   26  p   \n233   volkswagen  passat    3.6  2008    6    auto(s6)   f   17   26  p   \n\n    category  total  mean  \n0    compact     47  23.5  \n1    compact     50  25.0  \n2    compact     51  25.5  \n3    compact     51  25.5  \n4    compact     42  21.0  \n..       ...    ...   ...  \n229  midsize     47  23.5  \n230  midsize     50  25.0  \n231  midsize     42  21.0  \n232  midsize     44  22.0  \n233  midsize     43  21.5  \n\n[234 rows x 13 columns]"
     },
     "execution_count": 95,
     "metadata": {},
     "output_type": "execute_result"
    }
   ],
   "source": [
    "mean = mpg_copy.assign(total = lambda x : x['cty'] + x['hwy'], mean = lambda x : x['total'] / 2)\n",
    "mean"
   ]
  },
  {
   "cell_type": "code",
   "execution_count": 97,
   "metadata": {},
   "outputs": [
    {
     "data": {
      "text/html": "<div>\n<style scoped>\n    .dataframe tbody tr th:only-of-type {\n        vertical-align: middle;\n    }\n\n    .dataframe tbody tr th {\n        vertical-align: top;\n    }\n\n    .dataframe thead th {\n        text-align: right;\n    }\n</style>\n<table border=\"1\" class=\"dataframe\">\n  <thead>\n    <tr style=\"text-align: right;\">\n      <th></th>\n      <th>manufacturer</th>\n      <th>model</th>\n      <th>displ</th>\n      <th>year</th>\n      <th>cyl</th>\n      <th>trans</th>\n      <th>drv</th>\n      <th>cty</th>\n      <th>hwy</th>\n      <th>fl</th>\n      <th>category</th>\n      <th>total</th>\n      <th>mean</th>\n    </tr>\n  </thead>\n  <tbody>\n    <tr>\n      <th>221</th>\n      <td>volkswagen</td>\n      <td>new beetle</td>\n      <td>1.9</td>\n      <td>1999</td>\n      <td>4</td>\n      <td>manual(m5)</td>\n      <td>f</td>\n      <td>35</td>\n      <td>44</td>\n      <td>d</td>\n      <td>subcompact</td>\n      <td>79</td>\n      <td>39.5</td>\n    </tr>\n    <tr>\n      <th>212</th>\n      <td>volkswagen</td>\n      <td>jetta</td>\n      <td>1.9</td>\n      <td>1999</td>\n      <td>4</td>\n      <td>manual(m5)</td>\n      <td>f</td>\n      <td>33</td>\n      <td>44</td>\n      <td>d</td>\n      <td>compact</td>\n      <td>77</td>\n      <td>38.5</td>\n    </tr>\n    <tr>\n      <th>222</th>\n      <td>volkswagen</td>\n      <td>new beetle</td>\n      <td>1.9</td>\n      <td>1999</td>\n      <td>4</td>\n      <td>auto(l4)</td>\n      <td>f</td>\n      <td>29</td>\n      <td>41</td>\n      <td>d</td>\n      <td>subcompact</td>\n      <td>70</td>\n      <td>35.0</td>\n    </tr>\n  </tbody>\n</table>\n</div>",
      "text/plain": "    manufacturer       model  displ  year  cyl       trans drv  cty  hwy fl  \\\n221   volkswagen  new beetle    1.9  1999    4  manual(m5)   f   35   44  d   \n212   volkswagen       jetta    1.9  1999    4  manual(m5)   f   33   44  d   \n222   volkswagen  new beetle    1.9  1999    4    auto(l4)   f   29   41  d   \n\n       category  total  mean  \n221  subcompact     79  39.5  \n212     compact     77  38.5  \n222  subcompact     70  35.0  "
     },
     "execution_count": 97,
     "metadata": {},
     "output_type": "execute_result"
    }
   ],
   "source": [
    "mean.sort_values('mean', ascending = False).head(3)"
   ]
  },
  {
   "cell_type": "code",
   "execution_count": 99,
   "metadata": {},
   "outputs": [
    {
     "data": {
      "text/html": "<div>\n<style scoped>\n    .dataframe tbody tr th:only-of-type {\n        vertical-align: middle;\n    }\n\n    .dataframe tbody tr th {\n        vertical-align: top;\n    }\n\n    .dataframe thead th {\n        text-align: right;\n    }\n</style>\n<table border=\"1\" class=\"dataframe\">\n  <thead>\n    <tr style=\"text-align: right;\">\n      <th></th>\n      <th>manufacturer</th>\n      <th>model</th>\n      <th>displ</th>\n      <th>year</th>\n      <th>cyl</th>\n      <th>trans</th>\n      <th>drv</th>\n      <th>cty</th>\n      <th>hwy</th>\n      <th>fl</th>\n      <th>category</th>\n      <th>total</th>\n      <th>mean</th>\n    </tr>\n  </thead>\n  <tbody>\n    <tr>\n      <th>221</th>\n      <td>volkswagen</td>\n      <td>new beetle</td>\n      <td>1.9</td>\n      <td>1999</td>\n      <td>4</td>\n      <td>manual(m5)</td>\n      <td>f</td>\n      <td>35</td>\n      <td>44</td>\n      <td>d</td>\n      <td>subcompact</td>\n      <td>79</td>\n      <td>39.5</td>\n    </tr>\n    <tr>\n      <th>212</th>\n      <td>volkswagen</td>\n      <td>jetta</td>\n      <td>1.9</td>\n      <td>1999</td>\n      <td>4</td>\n      <td>manual(m5)</td>\n      <td>f</td>\n      <td>33</td>\n      <td>44</td>\n      <td>d</td>\n      <td>compact</td>\n      <td>77</td>\n      <td>38.5</td>\n    </tr>\n    <tr>\n      <th>222</th>\n      <td>volkswagen</td>\n      <td>new beetle</td>\n      <td>1.9</td>\n      <td>1999</td>\n      <td>4</td>\n      <td>auto(l4)</td>\n      <td>f</td>\n      <td>29</td>\n      <td>41</td>\n      <td>d</td>\n      <td>subcompact</td>\n      <td>70</td>\n      <td>35.0</td>\n    </tr>\n  </tbody>\n</table>\n</div>",
      "text/plain": "    manufacturer       model  displ  year  cyl       trans drv  cty  hwy fl  \\\n221   volkswagen  new beetle    1.9  1999    4  manual(m5)   f   35   44  d   \n212   volkswagen       jetta    1.9  1999    4  manual(m5)   f   33   44  d   \n222   volkswagen  new beetle    1.9  1999    4    auto(l4)   f   29   41  d   \n\n       category  total  mean  \n221  subcompact     79  39.5  \n212     compact     77  38.5  \n222  subcompact     70  35.0  "
     },
     "execution_count": 99,
     "metadata": {},
     "output_type": "execute_result"
    }
   ],
   "source": [
    "mpg.assign(total = lambda x : x['cty'] + x['hwy'], mean = lambda x : x['total'] / 2).sort_values('mean', ascending = False).head(3)"
   ]
  },
  {
   "cell_type": "code",
   "execution_count": 10,
   "metadata": {},
   "outputs": [
    {
     "data": {
      "text/html": "<div>\n<style scoped>\n    .dataframe tbody tr th:only-of-type {\n        vertical-align: middle;\n    }\n\n    .dataframe tbody tr th {\n        vertical-align: top;\n    }\n\n    .dataframe thead th {\n        text-align: right;\n    }\n</style>\n<table border=\"1\" class=\"dataframe\">\n  <thead>\n    <tr style=\"text-align: right;\">\n      <th></th>\n      <th>mean_cty</th>\n    </tr>\n    <tr>\n      <th>category</th>\n      <th></th>\n    </tr>\n  </thead>\n  <tbody>\n    <tr>\n      <th>subcompact</th>\n      <td>20.371429</td>\n    </tr>\n    <tr>\n      <th>compact</th>\n      <td>20.127660</td>\n    </tr>\n    <tr>\n      <th>midsize</th>\n      <td>18.756098</td>\n    </tr>\n    <tr>\n      <th>minivan</th>\n      <td>15.818182</td>\n    </tr>\n    <tr>\n      <th>2seater</th>\n      <td>15.400000</td>\n    </tr>\n    <tr>\n      <th>suv</th>\n      <td>13.500000</td>\n    </tr>\n    <tr>\n      <th>pickup</th>\n      <td>13.000000</td>\n    </tr>\n  </tbody>\n</table>\n</div>",
      "text/plain": "             mean_cty\ncategory             \nsubcompact  20.371429\ncompact     20.127660\nmidsize     18.756098\nminivan     15.818182\n2seater     15.400000\nsuv         13.500000\npickup      13.000000"
     },
     "execution_count": 10,
     "metadata": {},
     "output_type": "execute_result"
    }
   ],
   "source": [
    "mpg.groupby('category').agg(mean_cty = ('cty', 'mean')).sort_values('mean_cty', ascending = False)"
   ]
  },
  {
   "cell_type": "code",
   "execution_count": 13,
   "metadata": {},
   "outputs": [
    {
     "data": {
      "text/html": "<div>\n<style scoped>\n    .dataframe tbody tr th:only-of-type {\n        vertical-align: middle;\n    }\n\n    .dataframe tbody tr th {\n        vertical-align: top;\n    }\n\n    .dataframe thead th {\n        text-align: right;\n    }\n</style>\n<table border=\"1\" class=\"dataframe\">\n  <thead>\n    <tr style=\"text-align: right;\">\n      <th></th>\n      <th>mean_cty</th>\n    </tr>\n    <tr>\n      <th>manufacturer</th>\n      <th></th>\n    </tr>\n  </thead>\n  <tbody>\n    <tr>\n      <th>honda</th>\n      <td>32.555556</td>\n    </tr>\n    <tr>\n      <th>volkswagen</th>\n      <td>29.222222</td>\n    </tr>\n    <tr>\n      <th>hyundai</th>\n      <td>26.857143</td>\n    </tr>\n  </tbody>\n</table>\n</div>",
      "text/plain": "               mean_cty\nmanufacturer           \nhonda         32.555556\nvolkswagen    29.222222\nhyundai       26.857143"
     },
     "execution_count": 13,
     "metadata": {},
     "output_type": "execute_result"
    }
   ],
   "source": [
    "mpg.groupby('manufacturer').agg(mean_cty = ('hwy', 'mean')).sort_values('mean_cty', ascending = False).head(3)"
   ]
  },
  {
   "cell_type": "code",
   "execution_count": 15,
   "metadata": {},
   "outputs": [
    {
     "data": {
      "text/plain": "manufacturer\naudi          15\nvolkswagen    14\ntoyota        12\nsubaru         4\nnissan         2\ndtype: int64"
     },
     "execution_count": 15,
     "metadata": {},
     "output_type": "execute_result"
    }
   ],
   "source": [
    "mpg.query('category == \"compact\"').value_counts('manufacturer')"
   ]
  },
  {
   "cell_type": "code",
   "execution_count": 19,
   "metadata": {},
   "outputs": [
    {
     "data": {
      "text/html": "<div>\n<style scoped>\n    .dataframe tbody tr th:only-of-type {\n        vertical-align: middle;\n    }\n\n    .dataframe tbody tr th {\n        vertical-align: top;\n    }\n\n    .dataframe thead th {\n        text-align: right;\n    }\n</style>\n<table border=\"1\" class=\"dataframe\">\n  <thead>\n    <tr style=\"text-align: right;\">\n      <th></th>\n      <th>fl</th>\n      <th>price_fl</th>\n    </tr>\n  </thead>\n  <tbody>\n    <tr>\n      <th>0</th>\n      <td>c</td>\n      <td>2.35</td>\n    </tr>\n    <tr>\n      <th>1</th>\n      <td>d</td>\n      <td>2.38</td>\n    </tr>\n    <tr>\n      <th>2</th>\n      <td>e</td>\n      <td>2.11</td>\n    </tr>\n    <tr>\n      <th>3</th>\n      <td>p</td>\n      <td>2.76</td>\n    </tr>\n    <tr>\n      <th>4</th>\n      <td>r</td>\n      <td>2.22</td>\n    </tr>\n  </tbody>\n</table>\n</div>",
      "text/plain": "  fl  price_fl\n0  c      2.35\n1  d      2.38\n2  e      2.11\n3  p      2.76\n4  r      2.22"
     },
     "execution_count": 19,
     "metadata": {},
     "output_type": "execute_result"
    }
   ],
   "source": [
    "fuel = pd.DataFrame({'fl' : ['c','d','e','p','r'], 'price_fl' : [2.35, 2.38, 2.11, 2.76, 2.22]})\n",
    "fuel"
   ]
  },
  {
   "cell_type": "code",
   "execution_count": 20,
   "metadata": {},
   "outputs": [
    {
     "data": {
      "text/html": "<div>\n<style scoped>\n    .dataframe tbody tr th:only-of-type {\n        vertical-align: middle;\n    }\n\n    .dataframe tbody tr th {\n        vertical-align: top;\n    }\n\n    .dataframe thead th {\n        text-align: right;\n    }\n</style>\n<table border=\"1\" class=\"dataframe\">\n  <thead>\n    <tr style=\"text-align: right;\">\n      <th></th>\n      <th>model</th>\n      <th>fl</th>\n      <th>price_fl</th>\n    </tr>\n  </thead>\n  <tbody>\n    <tr>\n      <th>0</th>\n      <td>a4</td>\n      <td>p</td>\n      <td>2.76</td>\n    </tr>\n    <tr>\n      <th>1</th>\n      <td>a4</td>\n      <td>p</td>\n      <td>2.76</td>\n    </tr>\n    <tr>\n      <th>2</th>\n      <td>a4</td>\n      <td>p</td>\n      <td>2.76</td>\n    </tr>\n    <tr>\n      <th>3</th>\n      <td>a4</td>\n      <td>p</td>\n      <td>2.76</td>\n    </tr>\n    <tr>\n      <th>4</th>\n      <td>a4</td>\n      <td>p</td>\n      <td>2.76</td>\n    </tr>\n  </tbody>\n</table>\n</div>",
      "text/plain": "  model fl  price_fl\n0    a4  p      2.76\n1    a4  p      2.76\n2    a4  p      2.76\n3    a4  p      2.76\n4    a4  p      2.76"
     },
     "execution_count": 20,
     "metadata": {},
     "output_type": "execute_result"
    }
   ],
   "source": [
    "mpg = pd.merge(mpg, fuel, how = 'left', on = 'fl')\n",
    "mpg[['model', 'fl', 'price_fl']].head(5)"
   ]
  }
 ],
 "metadata": {
  "kernelspec": {
   "display_name": "Python 3.9.12 64-bit ('anaconda3': virtualenv)",
   "name": "python3912jvsc74a57bd09fdced22d77102b5601c8f6ec647391a5080fbbd8dc561881d6412554a470c13"
  },
  "language_info": {
   "codemirror_mode": {
    "name": "ipython",
    "version": 3
   },
   "file_extension": ".py",
   "mimetype": "text/x-python",
   "name": "python",
   "nbconvert_exporter": "python",
   "pygments_lexer": "ipython3",
   "version": "3.9.12"
  },
  "orig_nbformat": 2
 },
 "nbformat": 4,
 "nbformat_minor": 2
}